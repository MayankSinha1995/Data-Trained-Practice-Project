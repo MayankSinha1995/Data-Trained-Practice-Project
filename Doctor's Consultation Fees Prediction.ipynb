{
 "cells": [
  {
   "cell_type": "markdown",
   "metadata": {},
   "source": [
    "# Doctor's Consultation Fees Prediction"
   ]
  },
  {
   "cell_type": "markdown",
   "metadata": {},
   "source": [
    "Problem Statement:"
   ]
  },
  {
   "cell_type": "markdown",
   "metadata": {},
   "source": [
    "Predict A Doctor's Consultation Fee "
   ]
  },
  {
   "cell_type": "markdown",
   "metadata": {},
   "source": [
    "We have all been in situation where we go to a doctor in emergency and find that the consultation fees are too high. As a data scientist we all should do better. What if you have data that records important details about a doctor and you get to build a model to predict the doctor’s consulting fee.? This is the use case that let's you do that. \n",
    "<br><br>\n",
    "<b>Size of training set: 5961 records</b>\n",
    "<br><br>\n",
    "<b>Size of test set: 1987 records</b>"
   ]
  },
  {
   "cell_type": "markdown",
   "metadata": {},
   "source": [
    "<b>FEATURES:</b><br>\n",
    "\n",
    "Qualification: Qualification and degrees held by the doctor<br>\n",
    "\n",
    "Experience: Experience of the doctor in number of years<br>\n",
    "\n",
    "Rating: Rating given by patients<br>\n",
    "\n",
    "Profile: Type of the doctor<br>\n",
    "\n",
    "Miscellaneous_Info: Extra information about the doctor<br>\n",
    "\n",
    "Fees: Fees charged by the doctor (Target Variable)<br>\n",
    "\n",
    "Place: Area and the city where the doctor is located."
   ]
  },
  {
   "cell_type": "markdown",
   "metadata": {},
   "source": [
    "# Reading and Understanding the Data"
   ]
  },
  {
   "cell_type": "markdown",
   "metadata": {},
   "source": [
    "# IMPORTING ALL THE LIABRARIES"
   ]
  },
  {
   "cell_type": "code",
   "execution_count": 1,
   "metadata": {},
   "outputs": [],
   "source": [
    "import numpy as np\n",
    "import pandas as pd\n",
    "import seaborn as sns\n",
    "import matplotlib.pyplot as plt\n",
    "from matplotlib import pyplot\n",
    "from sklearn import metrics\n",
    "from sklearn.preprocessing import StandardScaler\n",
    "from sklearn.preprocessing import LabelEncoder\n",
    "import warnings                                                                 \n",
    "warnings.filterwarnings('ignore') \n",
    "%matplotlib inline\n",
    "from subprocess import check_output\n",
    "from sklearn.metrics import accuracy_score\n",
    "from sklearn.metrics import confusion_matrix\n",
    "from sklearn.model_selection import train_test_split\n",
    "from sklearn.linear_model import LogisticRegression\n",
    "from sklearn.linear_model import LinearRegression\n",
    "from sklearn.ensemble import RandomForestClassifier\n",
    "from sklearn.ensemble import RandomForestRegressor"
   ]
  },
  {
   "cell_type": "markdown",
   "metadata": {},
   "source": [
    "Importing Dataset"
   ]
  },
  {
   "cell_type": "markdown",
   "metadata": {},
   "source": [
    "Since Data is in excel format so we will use pd.read_excel func to read data.<BR>\n",
    "After loading the data, it is important to have basic understanding about the data like shape, info and basic understanding of presence of null values in data."
   ]
  },
  {
   "cell_type": "code",
   "execution_count": 2,
   "metadata": {},
   "outputs": [],
   "source": [
    "dftest=pd.read_excel('Final_Test.xlsx')\n",
    "dftrain=pd.read_excel('Final_Train.xlsx')"
   ]
  },
  {
   "cell_type": "code",
   "execution_count": 3,
   "metadata": {},
   "outputs": [
    {
     "data": {
      "text/html": [
       "<div>\n",
       "<style scoped>\n",
       "    .dataframe tbody tr th:only-of-type {\n",
       "        vertical-align: middle;\n",
       "    }\n",
       "\n",
       "    .dataframe tbody tr th {\n",
       "        vertical-align: top;\n",
       "    }\n",
       "\n",
       "    .dataframe thead th {\n",
       "        text-align: right;\n",
       "    }\n",
       "</style>\n",
       "<table border=\"1\" class=\"dataframe\">\n",
       "  <thead>\n",
       "    <tr style=\"text-align: right;\">\n",
       "      <th></th>\n",
       "      <th>Qualification</th>\n",
       "      <th>Experience</th>\n",
       "      <th>Rating</th>\n",
       "      <th>Place</th>\n",
       "      <th>Profile</th>\n",
       "      <th>Miscellaneous_Info</th>\n",
       "    </tr>\n",
       "  </thead>\n",
       "  <tbody>\n",
       "    <tr>\n",
       "      <th>0</th>\n",
       "      <td>MBBS</td>\n",
       "      <td>35 years experience</td>\n",
       "      <td>NaN</td>\n",
       "      <td>Ghatkopar East, Mumbai</td>\n",
       "      <td>General Medicine</td>\n",
       "      <td>NaN</td>\n",
       "    </tr>\n",
       "    <tr>\n",
       "      <th>1</th>\n",
       "      <td>MBBS, Diploma in Otorhinolaryngology (DLO)</td>\n",
       "      <td>31 years experience</td>\n",
       "      <td>NaN</td>\n",
       "      <td>West Marredpally, Hyderabad</td>\n",
       "      <td>ENT Specialist</td>\n",
       "      <td>NaN</td>\n",
       "    </tr>\n",
       "    <tr>\n",
       "      <th>2</th>\n",
       "      <td>MBBS, DDVL</td>\n",
       "      <td>40 years experience</td>\n",
       "      <td>70%</td>\n",
       "      <td>KK Nagar, Chennai</td>\n",
       "      <td>Dermatologists</td>\n",
       "      <td>70% 4 Feedback KK Nagar, Chennai</td>\n",
       "    </tr>\n",
       "    <tr>\n",
       "      <th>3</th>\n",
       "      <td>BAMS</td>\n",
       "      <td>0 years experience</td>\n",
       "      <td>NaN</td>\n",
       "      <td>New Ashok Nagar, Delhi</td>\n",
       "      <td>Ayurveda</td>\n",
       "      <td>NaN</td>\n",
       "    </tr>\n",
       "    <tr>\n",
       "      <th>4</th>\n",
       "      <td>BDS, MDS - Conservative Dentistry &amp; Endodontics</td>\n",
       "      <td>16 years experience</td>\n",
       "      <td>100%</td>\n",
       "      <td>Kanakpura Road, Bangalore</td>\n",
       "      <td>Dentist</td>\n",
       "      <td>General Dentistry Conservative Dentistry Cosme...</td>\n",
       "    </tr>\n",
       "  </tbody>\n",
       "</table>\n",
       "</div>"
      ],
      "text/plain": [
       "                                     Qualification           Experience  \\\n",
       "0                                             MBBS  35 years experience   \n",
       "1       MBBS, Diploma in Otorhinolaryngology (DLO)  31 years experience   \n",
       "2                                       MBBS, DDVL  40 years experience   \n",
       "3                                             BAMS   0 years experience   \n",
       "4  BDS, MDS - Conservative Dentistry & Endodontics  16 years experience   \n",
       "\n",
       "  Rating                        Place           Profile  \\\n",
       "0    NaN       Ghatkopar East, Mumbai  General Medicine   \n",
       "1    NaN  West Marredpally, Hyderabad    ENT Specialist   \n",
       "2    70%            KK Nagar, Chennai    Dermatologists   \n",
       "3    NaN       New Ashok Nagar, Delhi          Ayurveda   \n",
       "4   100%    Kanakpura Road, Bangalore           Dentist   \n",
       "\n",
       "                                  Miscellaneous_Info  \n",
       "0                                                NaN  \n",
       "1                                                NaN  \n",
       "2                   70% 4 Feedback KK Nagar, Chennai  \n",
       "3                                                NaN  \n",
       "4  General Dentistry Conservative Dentistry Cosme...  "
      ]
     },
     "execution_count": 3,
     "metadata": {},
     "output_type": "execute_result"
    }
   ],
   "source": [
    "dftest.head()"
   ]
  },
  {
   "cell_type": "code",
   "execution_count": 4,
   "metadata": {},
   "outputs": [
    {
     "data": {
      "text/html": [
       "<div>\n",
       "<style scoped>\n",
       "    .dataframe tbody tr th:only-of-type {\n",
       "        vertical-align: middle;\n",
       "    }\n",
       "\n",
       "    .dataframe tbody tr th {\n",
       "        vertical-align: top;\n",
       "    }\n",
       "\n",
       "    .dataframe thead th {\n",
       "        text-align: right;\n",
       "    }\n",
       "</style>\n",
       "<table border=\"1\" class=\"dataframe\">\n",
       "  <thead>\n",
       "    <tr style=\"text-align: right;\">\n",
       "      <th></th>\n",
       "      <th>Qualification</th>\n",
       "      <th>Experience</th>\n",
       "      <th>Rating</th>\n",
       "      <th>Place</th>\n",
       "      <th>Profile</th>\n",
       "      <th>Miscellaneous_Info</th>\n",
       "      <th>Fees</th>\n",
       "    </tr>\n",
       "  </thead>\n",
       "  <tbody>\n",
       "    <tr>\n",
       "      <th>0</th>\n",
       "      <td>BHMS, MD - Homeopathy</td>\n",
       "      <td>24 years experience</td>\n",
       "      <td>100%</td>\n",
       "      <td>Kakkanad, Ernakulam</td>\n",
       "      <td>Homeopath</td>\n",
       "      <td>100% 16 Feedback Kakkanad, Ernakulam</td>\n",
       "      <td>100</td>\n",
       "    </tr>\n",
       "    <tr>\n",
       "      <th>1</th>\n",
       "      <td>BAMS, MD - Ayurveda Medicine</td>\n",
       "      <td>12 years experience</td>\n",
       "      <td>98%</td>\n",
       "      <td>Whitefield, Bangalore</td>\n",
       "      <td>Ayurveda</td>\n",
       "      <td>98% 76 Feedback Whitefield, Bangalore</td>\n",
       "      <td>350</td>\n",
       "    </tr>\n",
       "    <tr>\n",
       "      <th>2</th>\n",
       "      <td>MBBS, MS - Otorhinolaryngology</td>\n",
       "      <td>9 years experience</td>\n",
       "      <td>NaN</td>\n",
       "      <td>Mathikere - BEL, Bangalore</td>\n",
       "      <td>ENT Specialist</td>\n",
       "      <td>NaN</td>\n",
       "      <td>300</td>\n",
       "    </tr>\n",
       "    <tr>\n",
       "      <th>3</th>\n",
       "      <td>BSc - Zoology, BAMS</td>\n",
       "      <td>12 years experience</td>\n",
       "      <td>NaN</td>\n",
       "      <td>Bannerghatta Road, Bangalore</td>\n",
       "      <td>Ayurveda</td>\n",
       "      <td>Bannerghatta Road, Bangalore ₹250 Available on...</td>\n",
       "      <td>250</td>\n",
       "    </tr>\n",
       "    <tr>\n",
       "      <th>4</th>\n",
       "      <td>BAMS</td>\n",
       "      <td>20 years experience</td>\n",
       "      <td>100%</td>\n",
       "      <td>Keelkattalai, Chennai</td>\n",
       "      <td>Ayurveda</td>\n",
       "      <td>100% 4 Feedback Keelkattalai, Chennai</td>\n",
       "      <td>250</td>\n",
       "    </tr>\n",
       "  </tbody>\n",
       "</table>\n",
       "</div>"
      ],
      "text/plain": [
       "                    Qualification           Experience Rating  \\\n",
       "0           BHMS, MD - Homeopathy  24 years experience   100%   \n",
       "1    BAMS, MD - Ayurveda Medicine  12 years experience    98%   \n",
       "2  MBBS, MS - Otorhinolaryngology   9 years experience    NaN   \n",
       "3             BSc - Zoology, BAMS  12 years experience    NaN   \n",
       "4                            BAMS  20 years experience   100%   \n",
       "\n",
       "                          Place         Profile  \\\n",
       "0           Kakkanad, Ernakulam       Homeopath   \n",
       "1         Whitefield, Bangalore        Ayurveda   \n",
       "2    Mathikere - BEL, Bangalore  ENT Specialist   \n",
       "3  Bannerghatta Road, Bangalore        Ayurveda   \n",
       "4         Keelkattalai, Chennai        Ayurveda   \n",
       "\n",
       "                                  Miscellaneous_Info  Fees  \n",
       "0               100% 16 Feedback Kakkanad, Ernakulam   100  \n",
       "1              98% 76 Feedback Whitefield, Bangalore   350  \n",
       "2                                                NaN   300  \n",
       "3  Bannerghatta Road, Bangalore ₹250 Available on...   250  \n",
       "4              100% 4 Feedback Keelkattalai, Chennai   250  "
      ]
     },
     "execution_count": 4,
     "metadata": {},
     "output_type": "execute_result"
    }
   ],
   "source": [
    "dftrain.head()"
   ]
  },
  {
   "cell_type": "code",
   "execution_count": 5,
   "metadata": {},
   "outputs": [
    {
     "data": {
      "text/plain": [
       "(5961, 7)"
      ]
     },
     "execution_count": 5,
     "metadata": {},
     "output_type": "execute_result"
    }
   ],
   "source": [
    "# let check shape\n",
    "\n",
    "dftrain.shape\n"
   ]
  },
  {
   "cell_type": "code",
   "execution_count": 6,
   "metadata": {},
   "outputs": [
    {
     "data": {
      "text/plain": [
       "(1987, 6)"
      ]
     },
     "execution_count": 6,
     "metadata": {},
     "output_type": "execute_result"
    }
   ],
   "source": [
    "dftest.shape"
   ]
  },
  {
   "cell_type": "code",
   "execution_count": 7,
   "metadata": {},
   "outputs": [
    {
     "data": {
      "text/html": [
       "<div>\n",
       "<style scoped>\n",
       "    .dataframe tbody tr th:only-of-type {\n",
       "        vertical-align: middle;\n",
       "    }\n",
       "\n",
       "    .dataframe tbody tr th {\n",
       "        vertical-align: top;\n",
       "    }\n",
       "\n",
       "    .dataframe thead th {\n",
       "        text-align: right;\n",
       "    }\n",
       "</style>\n",
       "<table border=\"1\" class=\"dataframe\">\n",
       "  <thead>\n",
       "    <tr style=\"text-align: right;\">\n",
       "      <th></th>\n",
       "      <th>Column Type</th>\n",
       "      <th>Count</th>\n",
       "    </tr>\n",
       "  </thead>\n",
       "  <tbody>\n",
       "    <tr>\n",
       "      <th>0</th>\n",
       "      <td>int64</td>\n",
       "      <td>1</td>\n",
       "    </tr>\n",
       "    <tr>\n",
       "      <th>1</th>\n",
       "      <td>object</td>\n",
       "      <td>6</td>\n",
       "    </tr>\n",
       "  </tbody>\n",
       "</table>\n",
       "</div>"
      ],
      "text/plain": [
       "  Column Type  Count\n",
       "0       int64      1\n",
       "1      object      6"
      ]
     },
     "execution_count": 7,
     "metadata": {},
     "output_type": "execute_result"
    }
   ],
   "source": [
    "# check train column types\n",
    "ctype = dftrain.dtypes.reset_index()\n",
    "ctype.columns = [\"Count\", \"Column Type\"]\n",
    "ctype.groupby(\"Column Type\").aggregate('count').reset_index()"
   ]
  },
  {
   "cell_type": "code",
   "execution_count": 8,
   "metadata": {},
   "outputs": [
    {
     "data": {
      "text/html": [
       "<div>\n",
       "<style scoped>\n",
       "    .dataframe tbody tr th:only-of-type {\n",
       "        vertical-align: middle;\n",
       "    }\n",
       "\n",
       "    .dataframe tbody tr th {\n",
       "        vertical-align: top;\n",
       "    }\n",
       "\n",
       "    .dataframe thead th {\n",
       "        text-align: right;\n",
       "    }\n",
       "</style>\n",
       "<table border=\"1\" class=\"dataframe\">\n",
       "  <thead>\n",
       "    <tr style=\"text-align: right;\">\n",
       "      <th></th>\n",
       "      <th>Column Type</th>\n",
       "      <th>Count</th>\n",
       "    </tr>\n",
       "  </thead>\n",
       "  <tbody>\n",
       "    <tr>\n",
       "      <th>0</th>\n",
       "      <td>object</td>\n",
       "      <td>6</td>\n",
       "    </tr>\n",
       "  </tbody>\n",
       "</table>\n",
       "</div>"
      ],
      "text/plain": [
       "  Column Type  Count\n",
       "0      object      6"
      ]
     },
     "execution_count": 8,
     "metadata": {},
     "output_type": "execute_result"
    }
   ],
   "source": [
    "# check test column types\n",
    "\n",
    "ctype = dftest.dtypes.reset_index()\n",
    "ctype.columns = [\"Count\", \"Column Type\"]\n",
    "ctype.groupby(\"Column Type\").aggregate('count').reset_index()"
   ]
  },
  {
   "cell_type": "code",
   "execution_count": 9,
   "metadata": {},
   "outputs": [
    {
     "data": {
      "text/plain": [
       "Qualification          0.00\n",
       "Experience             0.00\n",
       "Rating                55.39\n",
       "Place                  0.42\n",
       "Profile                0.00\n",
       "Miscellaneous_Info    43.95\n",
       "Fees                   0.00\n",
       "dtype: float64"
      ]
     },
     "execution_count": 9,
     "metadata": {},
     "output_type": "execute_result"
    }
   ],
   "source": [
    "# check for null values\n",
    "round(dftrain.isnull().sum()/len(dftrain) * 100,2)"
   ]
  },
  {
   "cell_type": "markdown",
   "metadata": {},
   "source": [
    "# EDA"
   ]
  },
  {
   "cell_type": "markdown",
   "metadata": {},
   "source": [
    "There will be lot's of analysis which can be assumed by observing our data as all the feature we are having is categorical even experience"
   ]
  },
  {
   "cell_type": "markdown",
   "metadata": {},
   "source": [
    "Extract Experience Year from Experience column and convert to Numeric."
   ]
  },
  {
   "cell_type": "code",
   "execution_count": 10,
   "metadata": {},
   "outputs": [],
   "source": [
    "# Experience\n",
    "dftrain['Experience'] = dftrain['Experience'].str.split().str[0]\n",
    "dftrain['Experience'] = dftrain['Experience'].astype(int)"
   ]
  },
  {
   "cell_type": "code",
   "execution_count": 11,
   "metadata": {},
   "outputs": [
    {
     "data": {
      "text/html": [
       "<div>\n",
       "<style scoped>\n",
       "    .dataframe tbody tr th:only-of-type {\n",
       "        vertical-align: middle;\n",
       "    }\n",
       "\n",
       "    .dataframe tbody tr th {\n",
       "        vertical-align: top;\n",
       "    }\n",
       "\n",
       "    .dataframe thead th {\n",
       "        text-align: right;\n",
       "    }\n",
       "</style>\n",
       "<table border=\"1\" class=\"dataframe\">\n",
       "  <thead>\n",
       "    <tr style=\"text-align: right;\">\n",
       "      <th></th>\n",
       "      <th>Qualification</th>\n",
       "      <th>Experience</th>\n",
       "      <th>Rating</th>\n",
       "      <th>Place</th>\n",
       "      <th>Profile</th>\n",
       "      <th>Miscellaneous_Info</th>\n",
       "      <th>Fees</th>\n",
       "    </tr>\n",
       "  </thead>\n",
       "  <tbody>\n",
       "    <tr>\n",
       "      <th>0</th>\n",
       "      <td>BHMS, MD - Homeopathy</td>\n",
       "      <td>24</td>\n",
       "      <td>100%</td>\n",
       "      <td>Kakkanad, Ernakulam</td>\n",
       "      <td>Homeopath</td>\n",
       "      <td>100% 16 Feedback Kakkanad, Ernakulam</td>\n",
       "      <td>100</td>\n",
       "    </tr>\n",
       "    <tr>\n",
       "      <th>1</th>\n",
       "      <td>BAMS, MD - Ayurveda Medicine</td>\n",
       "      <td>12</td>\n",
       "      <td>98%</td>\n",
       "      <td>Whitefield, Bangalore</td>\n",
       "      <td>Ayurveda</td>\n",
       "      <td>98% 76 Feedback Whitefield, Bangalore</td>\n",
       "      <td>350</td>\n",
       "    </tr>\n",
       "  </tbody>\n",
       "</table>\n",
       "</div>"
      ],
      "text/plain": [
       "                  Qualification  Experience Rating                  Place  \\\n",
       "0         BHMS, MD - Homeopathy          24   100%    Kakkanad, Ernakulam   \n",
       "1  BAMS, MD - Ayurveda Medicine          12    98%  Whitefield, Bangalore   \n",
       "\n",
       "     Profile                     Miscellaneous_Info  Fees  \n",
       "0  Homeopath   100% 16 Feedback Kakkanad, Ernakulam   100  \n",
       "1   Ayurveda  98% 76 Feedback Whitefield, Bangalore   350  "
      ]
     },
     "execution_count": 11,
     "metadata": {},
     "output_type": "execute_result"
    }
   ],
   "source": [
    "dftrain.head(2)"
   ]
  },
  {
   "cell_type": "markdown",
   "metadata": {},
   "source": [
    "Moving with Place Column<br>\n",
    "As, there are some missing values in Place column so I have replaced then with Unknown, Unknown to represent them.<br>\n",
    "then, we can easily extract city and locality from Place variable."
   ]
  },
  {
   "cell_type": "code",
   "execution_count": 12,
   "metadata": {},
   "outputs": [],
   "source": [
    "dftrain.Place.fillna('Unknown,Unknown',inplace=True)\n",
    "\n",
    "dftrain['locality'] = dftrain['Place'].str.split(\",\").str[0]\n",
    "dftrain['city'] = dftrain['Place'].str.split(\",\").str[1]\n",
    "\n",
    "#Now we can drop the place variable\n",
    "dftrain.drop('Place',axis=1,inplace=True)"
   ]
  },
  {
   "cell_type": "markdown",
   "metadata": {},
   "source": [
    "Rating Column"
   ]
  },
  {
   "cell_type": "markdown",
   "metadata": {},
   "source": [
    "Rating has more then 55% of missing values so first we have to deal with them, then convert Rating to int."
   ]
  },
  {
   "cell_type": "code",
   "execution_count": 13,
   "metadata": {},
   "outputs": [],
   "source": [
    "# Fill missing values with -99% to provide them different importance.\n",
    "dftrain['Rating'].fillna('-99%',inplace=True)\n",
    "\n",
    "# extract value of rating to avoid '%' and convert to numeric\n",
    "dftrain['Rating'] = dftrain['Rating'].str.slice(stop=-1).astype(int)"
   ]
  },
  {
   "cell_type": "markdown",
   "metadata": {},
   "source": [
    "Now, I grouped the rating in 10 groups(bins of size 10). Missing values will fall under 0 group. while, 0-9% will be class 1, 10–19% will be class 2, so on and so forth"
   ]
  },
  {
   "cell_type": "markdown",
   "metadata": {},
   "source": [
    "Use cut when you need to segment and sort data values into bins. For example, cut could convert ages to groups of age ranges. Supports binning into an equal number of bins, or a pre-specified array of bins."
   ]
  },
  {
   "cell_type": "code",
   "execution_count": 14,
   "metadata": {},
   "outputs": [
    {
     "name": "stdout",
     "output_type": "stream",
     "text": [
      "0-9%  1\n",
      "10-19%  0\n",
      "20-29%  0\n",
      "30-39%  3\n",
      "And so-on..\n"
     ]
    }
   ],
   "source": [
    "print(\"0-9% \",len(dftrain[(dftrain['Rating']>0) & (dftrain['Rating']<10)]))\n",
    "print(\"10-19% \",len(dftrain[(dftrain['Rating']>=10) & (dftrain['Rating']<20)]))\n",
    "print(\"20-29% \",len(dftrain[(dftrain['Rating']>=20) & (dftrain['Rating']<30)]))\n",
    "print(\"30-39% \",len(dftrain[(dftrain['Rating']>=30) & (dftrain['Rating']<40)]))\n",
    "print(\"And so-on..\")"
   ]
  },
  {
   "cell_type": "code",
   "execution_count": 15,
   "metadata": {},
   "outputs": [],
   "source": [
    "bins = [-99,0,10,20,30,40,50,60,70,80,90,100]\n",
    "labels = [i for i in range(11)]\n",
    "dftrain['Rating'] = pd.cut(dftrain['Rating'], bins=bins, labels=labels, include_lowest=True)"
   ]
  },
  {
   "cell_type": "code",
   "execution_count": 16,
   "metadata": {},
   "outputs": [
    {
     "data": {
      "text/plain": [
       "0     3302\n",
       "1        1\n",
       "2        0\n",
       "3        0\n",
       "4        4\n",
       "5        3\n",
       "6       19\n",
       "7       32\n",
       "8       98\n",
       "9      280\n",
       "10    2222\n",
       "Name: Rating, dtype: int64"
      ]
     },
     "execution_count": 16,
     "metadata": {},
     "output_type": "execute_result"
    }
   ],
   "source": [
    "dftrain['Rating'].value_counts().sort_index()\n"
   ]
  },
  {
   "cell_type": "markdown",
   "metadata": {},
   "source": [
    "nice it is exactly being grouped."
   ]
  },
  {
   "cell_type": "markdown",
   "metadata": {},
   "source": [
    "Working with Qualification"
   ]
  },
  {
   "cell_type": "code",
   "execution_count": 17,
   "metadata": {},
   "outputs": [
    {
     "data": {
      "text/plain": [
       "2     2628\n",
       "1     1962\n",
       "3      995\n",
       "4      257\n",
       "5       84\n",
       "6       23\n",
       "7        6\n",
       "9        3\n",
       "8        2\n",
       "10       1\n",
       "Name: Qualification_count, dtype: int64"
      ]
     },
     "execution_count": 17,
     "metadata": {},
     "output_type": "execute_result"
    }
   ],
   "source": [
    "dftrain['Qualification_count'] = dftrain['Qualification'].apply(lambda x: len(x.split(\",\")))\n",
    "\n",
    "dftrain['Qualification_count'].value_counts()"
   ]
  },
  {
   "cell_type": "code",
   "execution_count": 18,
   "metadata": {},
   "outputs": [
    {
     "data": {
      "text/plain": [
       "array(['BHMS, MD - Homeopathy', 'BAMS, MD - Ayurveda Medicine',\n",
       "       'MBBS, MS - Otorhinolaryngology', ...,\n",
       "       'MD - Dermatology , Venereology & Leprosy, MBBS, Fellowship In Dermatosurgery',\n",
       "       'BDS, certification in smile designing',\n",
       "       'MD - Homeopathy, Post Graduate Diploma in Healthcare Management(PGDHM), DHMS (Diploma in Homeopathic Medicine and Surgery)'],\n",
       "      dtype=object)"
      ]
     },
     "execution_count": 18,
     "metadata": {},
     "output_type": "execute_result"
    }
   ],
   "source": [
    "dftrain['Qualification'].unique()"
   ]
  },
  {
   "cell_type": "markdown",
   "metadata": {},
   "source": [
    "here there are lot of Qualification but most of doctors only has 1 or 2 qualification.<br>\n",
    "And the data is to much messy like, 'MBA -Healthcare' and ‘MBA’ which referred to same category so here we will take the top 10 Qualification that occurs the most."
   ]
  },
  {
   "cell_type": "markdown",
   "metadata": {},
   "source": [
    "Extract relevant qualification"
   ]
  },
  {
   "cell_type": "code",
   "execution_count": 19,
   "metadata": {},
   "outputs": [
    {
     "name": "stdout",
     "output_type": "stream",
     "text": [
      "{'BHMS': 749, 'MD - Homeopathy': 181, 'BAMS': 764, 'MD - Ayurveda Medicine': 139, 'MBBS': 2808, 'MS - Otorhinolaryngology': 103, 'BSc - Zoology': 3, 'BDS': 1363, 'MD - General Medicine': 285, 'BSc': 3, 'MS': 2, 'DNB - ENT': 111, 'MDS': 82, 'MDS - Oral & Maxillofacial Surgery': 104, 'Diploma in Otorhinolaryngology (DLO)': 250, 'MF- Homeopathy': 5, 'MS - ENT': 411, 'DNB': 58, 'Fellowship of College of General Practice (FCGP)': 13, 'DDVL': 161, 'IBCLC (USA)': 1, 'Post Graduate Diploma in Diabetology (PGDD)': 53, 'Diploma in Dermatology': 67, 'Fellowship in Aesthetic Medicine': 23, 'DM - Neurology': 6, 'MD - Pediatrics': 13, 'Fellowship in Cleft Lip and Craniofacial Surgery': 1, 'Diploma in Cosmetology': 3, 'AFIH': 4, 'MDS - Prosthodontist And Crown Bridge': 45, 'M. D. Hom. (Practice of Medicine)': 2, 'Diploma in Emergency Medicine': 8, 'Diploma in Counselling Skills': 2, 'DHMS (Diploma in Homeopathic Medicine and Surgery)': 47, 'MD - Dermatology': 606, 'Venereology & Leprosy': 297, 'MDS - Oral and Maxillofacial Pathology': 1, 'MFDS RCS': 4, 'MRCS (UK)': 15, 'FRGUHS': 22, 'Fellowship in Dermatological Laser Surgery': 10, 'Member of the Royal College of Physicians': 4, 'UK (MRCP UK)': 4, 'MNAMS- Family Medicine': 1, 'MD - Medicine': 72, 'MS - Psychology': 15, 'Diploma In Skin Aesthetics': 4, 'MDS - Periodontology and Oral Implantology': 47, 'Certificate in Cosmetic Dentistry': 8, 'Post Graduate Certificate in Endodontics (PGCE)': 6, 'Fellow of Academy of General Education (FAGE)': 23, 'MD - Rheumatology': 2, 'MDS - Paedodontics And Preventive Dentistry': 47, 'MDS-Oral Pathology and Oral Microbiology': 10, 'FRCP': 15, 'Doctor of Science (DSc.)': 1, 'D.LITT - Diabetology': 1, 'DDV': 129, 'MDS - Conservative Dentistry & Endodontics': 107, 'FICD': 4, 'Post Graduate Diploma in Emergency Services (PGDEMS)': 10, 'Get inspired by remarkable stories of people like you': 24, 'MD - Acupuncture': 6, 'Master of Hospital Administration': 3, 'BA': 1, 'MDS - Periodontics': 46, 'PGD in Endodontics': 1, 'MDS - Pedodontics': 30, 'PhD - Orthodontics & Dentofacial Orthopaedics': 26, 'MOrth': 2, 'MS - Ayurveda': 29, 'MRCPS': 5, 'P.G Diploma in Aesthetic Dentistry': 1, 'MD - Tuberculosis & Respiratory Diseases/Medicine': 3, 'MS - General Surgery': 40, 'Diploma in Health Administration': 9, 'MD - Skin & VD': 27, 'FAMS - Fellowship of the Academy Medicine': 3, 'MD - Internal Medicine': 71, 'DNB - Internal Medicine': 12, 'FRCS - General Surgery': 11, 'PhD - Homoeopathy': 2, 'Certificate in Dental Implants': 32, 'MDS - Orthodontics and Dentofacial Orthopaedics': 44, 'DNB - Family Medicine': 10, 'MS - Pediatric': 1, 'Member of the Royal Society for the Promotion of Health (UK) (MRSH)': 3, 'Post Graduate Diploma in Endocrinology': 5, 'MDS - Prosthodontics': 74, 'M.Sc.- Clinical Nutrition and Dietetics': 1, 'MSc - Psychotherapy And Counselling': 5, 'MS (Shalyatantra)': 1, 'MSc - Yoga': 4, 'DLO': 17, 'Post Graduate Diploma in Advanced Implantology': 1, 'MD - Alternate Medicine': 19, 'Post Graduate Diploma in Counselling & Psychotherapy': 1, 'MS - Counselling & Psychotherapy': 3, 'PhD - Alternative Medicine': 1, 'Fellowship in Oral implantlogy': 16, 'Diploma in Personal Counselling Skills (DPCS)': 1, 'DNB - Dermatology': 11, 'GCEH': 2, 'Certification in Personal Counsling': 1, 'Post Graduate Diploma in Healthcare Management(PGDHM)': 6, 'Fellowship in Lasers & Cosmetology': 2, 'Fellowship In Anti-Aging And Aesthetic Medicine': 2, 'Diploma in Practical Dermatology': 5, 'Fellow Hair Transplant Surgery': 4, 'Fellowship in Lasers & Advanced Dermatology': 1, 'DNB - Paediatrics': 4, 'MRCPCH (UK)': 3, 'MDS - Oral Medicine and Radiology': 26, 'Diploma in Obesity managemnt': 1, 'Certificate Course In Therapeutic Yoga': 1, 'DNB - Nephrology': 4, 'Certification in Aesthetic Dentistry': 10, 'MRCP': 1, 'Fellowship In Laryngology Bronchoesophagology': 3, 'FAGE': 4, 'Diploma in Medical Radio-Diagnosis': 4, 'Certification in Full Mouth Rehabilitation': 6, 'Diploma in Acupuncture': 9, 'Diploma in Naturopathy & Yogic Science (DNYS)': 3, 'Fellowship in Minimal Access Surgery': 3, 'DGO': 17, 'Diplomate in Oral Implantology': 2, 'Masters in Oral Implantology': 1, 'Implant Externship Program': 2, 'Fellowship in Implantology': 6, 'M.S. (Ayurved) Stri Roga & Prasuti Tantra': 1, 'MS - Ayurvedic Gynecology & Obstetrics': 2, 'MD - Pathology': 3, 'Fellowship in Rheumatology': 4, 'MBA': 7, 'D.Y.A': 6, 'DVD': 46, 'Diploma in Public Health': 3, 'PhD- Ayurveda': 13, 'DM - Critical Care Medicine': 1, 'Post Graduate Course in Diabetology': 7, 'DNB - Otorhinolaryngology': 45, 'BSAM': 7, 'Certificate Course in Sports and Fitness Nutrition': 2, 'Diploma in Advanced Skin and Hair Treatments': 1, 'Doctor of Medicine (Alternate Medicine)': 2, 'Certificate in Cosmetology': 2, 'MD - Skin': 13, 'VD & Leprosy': 13, 'MDS - Public Health Dentistry': 5, 'Post Graduate Diploma In Yoga': 5, 'Diploma in ENT': 3, 'MA': 2, 'DNHE': 9, 'Diploma in Endoscopy': 1, 'Diploma in Anesthesiology': 7, 'MRCGP': 8, 'MDS - Orthodontics': 68, 'MD - Microbiology': 3, 'Post-Graduate Certificate in Oral Implantology (PGCOI)': 12, 'DO': 4, 'Diploma in Naturopathy & Yoga (NDDY)': 4, 'DNB - Dermatology & Venereology': 88, 'Diploma in Dermatology & Venerology': 5, 'DPM (Psychiatry)': 3, 'M.D. (Psychiatry)': 6, 'MD - Pharmacology': 6, 'Diploma in Diabetology': 3, 'Fellowship in Diabetology(Royal Liverpool University Hospital': 1, 'UK)': 8, 'Diploma in Family Medicine (DFM)': 8, 'Post Graduate Diploma in Clinical Research (PGDCR)': 8, 'F.A.G.E': 1, 'Diploma In Clinical Panchakarma': 1, 'Diploma in Child Health (DCH)': 20, 'DNB - Pediatrics': 2, 'DAA - Diploma in Allergy Asthma and Immunology': 3, 'MS - Endocrinology & Diabetes': 1, 'DM - Cardiology': 11, 'FNB - Infectious Disease': 1, 'DNB - General Medicine': 38, 'Diploma in Tuberculosis and Chest Diseases (DTCD)': 8, 'Division of Clinical Psychology (DCP)': 2, 'MSc - Master of Oral Implantology (MOI)': 4, 'MD - Oncology': 1, 'FCPS - Dermatology': 13, 'Certificate in Child Health (CCH)': 19, 'Masters in Counselling and Psychotherapy': 2, 'Diploma in Rheumatology': 1, 'MCP(UCLA-USA)': 1, 'PhD - Neuropsychology': 1, 'Fellowship in ENT': 1, 'Diploma In Naturopathy (ND)': 6, 'PG Diploma in Sexual Medicine': 1, 'Diploma in Medical Law and Ethics (PGDMLE)': 2, 'MRCP (UK)': 21, 'MBA (Health Care)': 2, 'Diplomate of American board of hair restoration surgery': 1, 'Post Graduate Diploma in Diabetes': 1, 'MNAMS - Plastic Surgery': 1, 'Certified in Hair Transplantation': 2, 'PG Diploma In Clinical Cosmetology (PGDCC)': 13, 'DORL (ENT)': 5, 'IDCC (ISCCM)': 1, 'MD - Family Medicine': 4, 'Master of Public Health (MPH)': 4, 'Diploma in Cardiology': 5, 'Fellowship In Cosmetic Dermatology': 7, 'MD - Anaesthesiology': 6, 'Ayurvedic panchkarma': 3, 'Post Graduate Diploma in Dermotology (PGDD)': 1, 'Certificate of Oral Implantology': 14, 'Certification in Laser Dentistry': 6, \"Dip' NMD\": 1, 'PGMHA': 2, 'Diploma in Hospital Management': 5, 'Certificate Course in Management of Thyroid Disorder': 4, 'Fellowship in Diabetology(Boston School of Medicine': 1, 'USA)': 3, 'PGDHHM': 6, 'Post Graduate Diploma in Hospital & Healthcare Management': 5, 'FCSI': 1, 'FSCAI': 3, 'Master of Clinical Dentistry': 1, 'Certified In Panchkarma': 3, 'Certification In Yoga': 2, 'Paanchabhautic Ayurveda Certificate': 1, 'Diploma in Traditional Chinese Medicine': 1, 'Diploma of Clinical Hypnotherapy': 1, 'Fellowship in Diabetology': 26, 'Diploma in Laser Dentistry': 3, 'Diploma in Preventive & Promotive Healthcare': 2, 'Integrated Clinical Hypnotherapy': 2, 'Master of Oral Laser Applications': 1, 'MSc - Psychology': 3, 'Post Graduate Diploma in Family Medicine (PGDFM)': 1, 'MD - Ayurvedic Pharmacology': 2, 'Certificate Endodontics & Pedodontics': 2, 'Certified Inman Aligner': 1, '39 years experience': 1, 'Cert. (Prosthodontics)': 1, 'MD - Ayurvedic Obstetrics and Gynecology': 1, 'Diploma in Hospital Administration': 7, 'MCh - Urology': 4, 'DNB - Urology/Genito - Urinary Surgery': 3, 'FRCP - Endocrinology': 1, 'LCEH': 16, 'Nutrition Certification': 4, 'Doctor of Homeopathic Medicine (HMD)': 5, 'Diploma in Implant Dentistry': 2, 'Fellowship in Cosmetology': 8, 'MD - Community Medicine': 4, 'P.G.Hom.(London)': 1, 'fellowship in medical cosmetology': 1, 'germany': 1, 'Certified Advance Course In Endodontics': 5, 'Diplomate of National Board Exam': 1, 'Diploma in Implanthology': 6, 'ECFMG (USA)': 2, 'Fellowship In Dermatosurgery': 6, 'Fellowship in Pediatric Dermatology': 5, 'CGO': 25, 'Diploma in Trichology - Cosmetology': 7, 'Diploma in Weight Loss': 1, 'EducationDiploma in Naturopathy and Yoga': 1, 'P.G Diploma in Diabetes Management': 1, 'Post Graduate Diploma in Maternity and Child Health (PGDMCH)': 5, 'Fellowship SIB': 1, 'DAA': 3, 'DNB - Peripheral Vascular Surgery': 1, 'FRACS': 1, 'Diploma in Aesthetic Medicine': 4, 'MCIP': 2, 'PGDCFS': 1, 'PGDFOS': 1, 'Diploma in Journalism': 1, 'MD - Homoeopathic Philosophy': 2, 'MS - Counselling and Psychotherapy': 7, 'MCh - Oncology': 1, 'MNAMS - General Surgery': 3, 'Diploma in Geriatric Medicine': 2, 'M C P S': 1, 'Fellowship In Infectious Disease': 1, 'M Derm': 1, 'FCAH (Fellow ship course in Advance Homoepath)': 3, 'MD - Pulmonary Medicine': 3, 'BPTh/BPT': 1, 'PGNAHI': 2, 'CSD': 3, 'MSc': 6, 'PG in Diabetology': 7, 'FCPS Skin & VD': 3, 'M. D. IN KAYACHIKISTA': 2, 'Diploma in Psychiatry': 1, 'Diploma in Panchkarma Chikitsa': 1, 'Fellowship and Diplomate in Implantology from ICOI (USA)': 9, 'MCh - Plastic Surgery': 2, 'Fellowship in Cleft Lip & Palate': 1, 'MD - Diabetology': 6, 'Post Doctoral Fellowship in Diabetology': 1, 'MD - Cardiology': 5, 'MBA (HCS)': 3, 'FFDRCSI': 3, 'Fellowship in Applied Nutrition(FAN)': 2, 'PhD - Clinical Neuroscience (Pediatrics)': 1, 'Professional Diploma in Clinical Research (PDCR)': 1, 'FICOI': 8, 'MD - Physician': 23, 'BNYS': 1, 'Advanced Certificate Course in Aesthetic Dentistry': 3, 'Professional Implantology Training Course (PITC)': 2, 'FAGE- FELLOW': 1, 'Comprehensive Course in Modern Endodontics': 2, 'Indian Diploma Critical Care Medicine (IDCCM)': 3, 'Fellowship in Aesthetic Dentistry (FAD)': 3, 'Fellowship in Rhinology and Endoscopic Skull Base Surgery': 1, 'Fellowship in Otology and Neurotology': 1, 'Fellow of International Congress of Oral Implantologist': 2, 'Post MD SR AIIMS': 2, 'Fellowship in Head & Neck Oncology Surgery': 9, 'Certificate in Dental Implantology': 1, 'Certificate in Orthodontics': 1, 'Bachelor of Chiropractic': 1, 'Diploma in Venereology': 3, 'Certificate in Invisible Braces': 3, 'Certification in Clear Aligners': 2, 'Certification in “Preventing Chronic Pain: A Human Systems Approach”': 1, 'Certification in “Vital Signs: Understanding What the Body Is Telling Us”': 1, 'Diploma in Medical Trichology': 1, 'B.Sc': 12, 'MBA - Healthcare Administration': 1, 'MRCPsych': 1, 'Diploma in Medical Cosmetology and Aesthetic Medicine': 1, 'PG Diploma In Health & Hospital Management': 2, 'PG DIPLOMA IN MEDICAL TOURISM': 1, 'Fellowship in LASERs & Aesthetics': 2, 'Diploma in Orthopaedics': 3, 'DNB - General Surgery': 4, 'MS - Paediatrics Surgery': 1, 'DNB - Pediatric Surgery': 1, 'One Year Certificate course in Hospital Management': 1, 'Certified Course in Yoga': 3, 'DICOI': 3, 'MBA - Hospital Management': 5, 'G.A.M.S': 3, 'MS - Ophthalmology': 3, 'Fellowship in Implant and Esthetic Dentistry': 2, 'AOC in Aesthetic Dentistry': 1, 'PGDE (Cosmetic & Esthetic Dentist)': 3, 'Invisalign Training Course': 4, 'Post Graduate Diploma in Clinical Nutrition & Dietetics': 1, 'Masters Diploma in Acupressure': 2, 'MDS- Oral Pathology': 6, 'Fellowship in Breast Surgery': 1, 'Fellowship in Non-Invasive Cardiology (FIC)': 4, 'MAMS': 3, 'FCPS - Mid. & Gynae': 3, 'CVD': 2, 'Diploma in Clinical Nutrition': 1, 'MS - Ayurvedic General Surgery': 1, 'MD - Yoga and Rehab': 2, 'Certification in Infectious Diseases': 1, 'Diploma in Tropical Medicine Health': 2, 'Fellowship in Skull Base Surgery': 2, 'TFO (USA)': 1, 'PG in Diabetology (USA)': 3, 'MDS - Orthodontics and Orofacial Orthopaedics': 3, 'M.Med in Family Medicine': 1, 'DIACH(Greece)': 1, 'Certificate Course in Advanced Homoeopathy (C.C.A.H)': 6, 'FCCM': 4, 'FCCP - Pulmonary Medicine': 6, 'Diploma of the Faculty of Family Planning (DFFP)': 2, 'Diploma in Sports Therapy': 1, 'Post graduate diploma in Hospital Management': 2, 'Certification for Professional Chemical Peel Workshop': 1, 'Certificate in Aesthetic Medicine': 2, 'BUMS': 1, 'Masters in Clinical Dermatology': 6, 'PGCC - Rheumatology': 1, 'MD - Opthalmology': 1, 'MD - Kayachikitsalaya': 1, 'MS - Implantolgy': 1, 'Implantology ICOI(USA)': 1, 'Diploma in Diet and Nutrition': 7, 'PGDHA': 2, 'Certificate Course in Tuberculosis & Chest Diseases': 1, 'Advanced Training Program in Diabetes Care': 1, 'PhD in Liberal Studies in Diabetology (Trinity College)': 1, 'CCEDM': 3, 'CCMTD': 3, 'CCDR': 1, 'MDS - Implantology': 1, 'MD - Obstetrics & Gynaecology': 8, 'MD-DVL': 3, 'Diploma in Beauty Therapy': 1, 'Certificate Course In Cosmetic Dermatology & Lasers': 2, 'PG Diploma in Trichology': 2, 'Certificate in Botox': 1, 'Fillers': 1, 'Threadlifts': 1, 'Advanced Certification in Clinical Diabetology': 2, 'SCE Dermatology (RCP': 1, 'Post Graduate Diploma in Orthodontics': 4, 'CCD (Diabetology)': 1, 'MCh - Cardio Thoracic and Vascular Surgery': 1, 'DM - Gastroenterology': 5, 'FCPS - General Surgery': 3, 'DM - Rheumatology': 1, 'Fellowship in Dermatology': 2, 'Training in Facial Aesthetics': 1, 'Certificate in Health Management': 1, 'MD - Homeopathy Psychiatry': 2, 'PGCAD': 1, 'MRCP (Paed)': 1, 'Diplomate American Academy of Aesthetic Medicne': 1, 'MS - Urology': 1, 'MCh - Urology/Genito-Urinary Surgery': 1, 'PG Diploma In Emergency Trauma Care': 2, 'Post Graduate Diploma in Diabetology (PGDD)(Middlesex University': 1, 'Fellowship in Orthopaedic Rehabilitation (FOR)': 1, 'MIDA': 1, 'Certificate Course in Dental Lasers': 1, 'Certificate Course in Implantology': 3, 'DM - Endocrinology': 3, 'PGCR': 2, 'Diploma in Diabetes/Endocrinology (Middlesex University)': 1, 'MD - Paediatrics': 2, 'MD - (Dermatology & STD)': 2, 'Diploma in Clinical Pathology': 1, 'PG Diploma in Preventive and Promotive Health Care (PGD PPHC)': 1, 'Fellowship in Medical Cosmetology (FMC)': 2, 'MDS - Endodontics': 4, 'MCh - Neuro Surgery': 2, 'Fellowship in Cosmetic Surgery': 2, 'DNB - Ophthalmology': 3, 'Fellowship in Vitreo-Retina': 1, 'MS - Orthopaedics': 4, 'MNAMS (Membership of the National Academy)': 5, 'Post Graduate Diploma in Medicological Systems (PGDMS)': 2, 'Fellow of the Royal Australasian College of Surgeons': 1, 'FRACS (General Surgery)': 1, 'Fellowship in Ayurvedic Medicine': 1, 'DM - Oncology': 2, 'DHMS': 3, 'Fellowship in Endocrinology': 2, 'Diabetes & Metabolism': 2, 'Fellow of American College of Endocrinology(FACE)': 1, 'PG Diploma in Child Health': 1, 'POST GRADUATE IN HOMOEOPATHY': 1, 'Certified in Orthodontics': 2, 'Certified BPS Dentist': 3, 'Fellowship in Advanced Endoscopic Sinus Surgery': 3, 'Degree in Dental Implant': 1, 'Advanced Endotontic Course On Root Canal': 2, 'Master In Counselling Psychology': 1, 'Diploma in Diabetology (Mumbai University)': 1, 'D.Sc': 2, 'Certification Course In Diabetes': 2, 'Fellowship in Clinical Cardiology': 1, 'Post Graduate Certificate in Advanced Oral Implantology': 3, 'Ph.D Panchakarma': 1, 'M.Ch': 3, 'FICS': 3, 'FRCS': 3, 'PG Diploma in Panchakarma': 1, 'F.C.I.P': 1, 'MDS - Oral & Maxillofacial Pathology and Microbiology': 1, 'M.Ch - Orthopaedics': 2, 'Fellowship in Joint Replacement': 2, 'Fellowship in Diabetology(Royal Liverpool Academy': 2, 'FCD - Diabetology': 5, 'PhD - Microbiology': 1, 'DEMS': 2, 'Member of Royal College of Emergency Medicine(MRCEM)': 1, 'Masters in Emergency Medicine': 1, 'International Certificate in Implant Dentistry': 1, 'Current Concepts in American Dentistry Advances in Implantology and Oral Rehabilitation': 2, 'MSc - Forensic Odontology': 2, 'MBA - Hospital Administration': 1, 'MCh - Surgical Gastroenterology/G.I. Surgery': 2, 'DNB - Infectious Disease': 1, 'PGDMLS': 4, 'MBA - HealthCare Management': 2, 'M.H.Sc-Diabetology': 3, 'CCEBDM': 3, 'Certificate Course in Nutrition and Dietetics': 1, 'PhD - Acupuncture': 2, 'BEMS': 5, 'Fellowship in Gastroenterology': 2, 'DNB - Oral & Maxillofacial Surgery': 1, 'MD- Dravya Guna': 3, 'Fellow of Advanced Micro ear Surgery': 1, 'MDS- Periodontist & Implantalogist': 1, 'Fellowship in Head & Neck Surgery': 2, 'Fellowship Training in Intensive Care Medicine': 1, 'Fellow of Indian College of Cardiology (FICC)': 1, 'MD - Anatomy': 2, 'Fellowship in Child and Adolescent Psychiatry': 1, 'Post Graduate Diploma in Periodontics and Implantology': 1, 'Fellowship Program in Forensic Odontology': 1, 'Fellowship In Phonosurgery': 2, 'MA - Psychology': 2, 'Post Graduate Course in Rheumatology': 1, 'MD - Venereology': 1, 'MD - Repertory': 1, 'DNB - Obstetrics & Gynecology': 2, 'Postgraduate Diploma Clinical Cardiology (PGDCC)': 6, 'Fellowship in Cardiac Rehabilitation': 2, 'Certificate Course in Oral Implantology': 1, 'MPH': 4, 'Post Graduate Diploma in Holistic Healthcare': 1, 'Graduate Diploma in Family Medicine': 1, 'Singapore': 1, 'D.Ortho Fellow Arthroscopy & Arthroplasty(AUST)': 1, 'DNB - Orthopedics/Orthopedic Surgery': 3, 'MNAMS - DERMATOLOGY': 1, 'Basic Life Support (BLS)': 3, 'ACLS': 1, 'Advanced Trauma Life Support (ATLS)': 2, 'Diploma In Pharmacy': 3, 'Advance Diploma in Nutrition and Dietetics': 2, 'Certificate in Yoga & Meditation': 1, 'DM - Nephrology': 4, 'Diploma in Nutrition and Health Education': 1, 'MSc - Clinical Dermatology': 4, 'Advanced Certificate in Endodontics and Esthetics': 1, 'Advanced Certificate Course in Dental Implants': 2, 'B.Ac': 1, 'FACC': 1, 'Certificate Course in Positive Psychology': 1, 'Clinical Nutritionist certifcate': 1, 'M.Sc - Counselling and Family Therapy': 1, 'D. Dermatology (Ay.)': 1, 'Master of Family Medicine': 2, 'MS - Obstetrics & Gynaecology': 2, 'MDS- Root Canal Specialist': 1, 'FCPS (ENT)': 1, 'Certificate in Implantology': 1, 'FCPS - Oto-Rhino-Laryngology': 5, 'Certificate in Medical Cosmetology and Aesthetics': 1, 'MCh - Head and Neck Oncology': 4, 'DDVCPS': 1, 'Diploma in Medical Cosmetology': 4, 'FNB - Critical Care Medicine': 1, 'European Diploma in Intensive Care Medicine (EDIC)': 1, 'CCST - Internal Medicine': 1, 'CCST - Diabetes & Endocrinology': 2, 'M.D. (E.H)': 1, 'MDS - Preventive & Community Dentistry': 1, 'Diploma in Homoeopathy and Biochemistry': 1, 'Diploma in Hair Restoration Surgery': 2, 'Fellowship In Pediatric Otolaryngology': 2, 'Fellowship in Diabetology(The University of Liverpool': 1, 'Diploma in Industrial Hygiene': 2, 'Diploma in Educational Psychology': 1, 'Certificate in Food and Nutrition': 3, 'Diploma in Clinical Dermatology (UK)': 1, 'F.S.R.H': 1, 'FCPS - Medicine': 2, 'MD - Nephrology': 1, 'MCh - Surgical Oncology': 2, 'Diploma in Gynaecology & Obstetrics': 1, 'Fellow of the American Academy of Dermatology (FAAD)': 4, 'MDS - Prosthodontist & Oral Implantologist': 4, 'MD - Homeo Organon': 2, 'MFGDP - Membership of the Faculty of General Dental Practitioners': 1, 'Membership of the Faculty of Dental Surgeons(MFDS)': 1, 'DNB - Respiratory Diseases': 2, 'BIMS': 1, 'MCPS': 2, 'Certificate in Sports Nutrition': 1, 'Post Graduate Diploma in Medical Cosmetology (PGDMC)': 2, 'Certificate in Pediatric Otolaryngology - Head and Neck Surgery': 1, 'Diploma in Aesthetic Dermatology': 1, 'MD - Infectious Diseases': 1, 'Certificate Course of One Year in Dental Implants': 1, 'Certificate Course in Advance Implantology': 1, 'Certificate Course in Evidence Based Diabetes Management (CCEBDM)': 4, 'Certificate Course in Gestational Diabetes (CCGDM)': 3, 'MD - Physical Medicine & Rehabilitation': 1, 'Diploma in Physical Medicine & Rehabilitation': 1, 'Fellowship in Diabetology & Endocrinology': 1, 'CCT - Endocrinology and Diabetes Mellitus': 1, 'Certified Sinus lift surgeon': 1, 'Diploma in Skin Polishing Technology': 1, 'Diploma in Slimming & Laser Treatments': 1, 'Certificate in Clinical Cosmetology': 1, 'PCAD (USA)': 1, 'MD - Acupressure': 2, 'PhD - Diabetes': 1, 'Fellowship in Medical Cosmetology': 2, 'Diploma in Cosmetic Dentistry': 1, 'FRCS - Otolaryngology': 5, 'DNB - Cardiology': 2, 'Distance Fellowship in Diabetes Management': 1, 'MBA - Healthcare Services': 1, 'Post Graduate Diploma in Diabetology (PGDD)(Johns Hopkins University School of Medicine': 1, 'Fellowship in Diabetology(Johns Hopkins University School of Medicine': 1, 'DMD - Doctor of Dental Medicine': 1, 'Post Graduate Diploma in Diabetology (PGDD)(Cardiff University': 1, 'ACDMC': 1, 'Diploma in Acupressure Therapy': 1, 'Advanced Certificate Course In Diabetes': 4, 'Post graduate certificate In sports Medicine': 1, 'Clinical Cardiology Certification': 1, 'FDS Surgical Oral Oncology': 1, 'Diploma in Ultra Sonology': 1, 'MD (HOM) - Paeditrics': 1, 'Clinical Fellowship in Rhinology': 1, 'MD - Ophthalmology': 1, 'MDS - Oral Pathalogy & Microbiology': 1, 'LLB': 2, 'Fellow in Dermato - Surgery': 1, 'Advance Fellowship in Laser & Dermatosurgery': 1, 'PhD - Psychology': 1, 'MD - Tuberculosis & Respiratory Diseases / Pulmonary Medicine': 2, 'MDS - Oral Medicine': 4, 'PG Certificate Course In Diabetes Education(PGDCE)': 3, 'PGD Yoga': 1, 'MA (Yoga Shastra)': 1, 'Diploma in Yoga Shikshaka': 1, \"Yoga Instructor's Course\": 4, 'D.H.M': 1, 'MD - Physiology': 1, 'F.A.M': 1, 'Fellowship in laryngology': 1, 'Ph. D - ENT': 1, 'Certificate in Laser and Dermatology': 1, 'Diploma in Skin & Vinereal Disease': 1, 'Diploma of Nutrition & Diet Planning': 2, 'Diploma in Diabetes': 3, 'PG - Echocardiography': 1, 'DM - Pulmonary Medicine & Critical Care Medicine': 1, 'European Diploma in Respiratory Medicine': 1, 'Post Graduate Diploma in Diabetic Education': 1, 'Weight Management Consultant Certificate': 1, 'Fellowship (Endoscopic Sinus Surgery)': 1, 'MD - TB & Chest': 1, 'FRACP (Rheumatology)': 2, 'F.C.P.S (Dermatology)': 1, 'Post Graduate Diploma in Health Sciences (PGDHSc)': 1, 'Master of Health Sciences (MHSc)': 3, 'M. SC in YOGA': 1, 'Diploma in Naturopathy & Yogic Science (DNYT)': 1, 'DYSc.': 1, 'Post Graduate in Clinical Psychology': 1, 'Certificate Course in Panchakarma': 2, 'Certificate Course in Nadi Sutra': 1, 'Post Graduate Certificate In Hiv And Std Manegement': 1, 'Fellow Indian Academy Of Clinical Medicine': 1, 'Advance Course In Osteoporosis': 1, 'EULAR certificate for Rheumatic Diseases': 1, 'MD - Radio Diagnosis/Radiology': 1, 'CCT - Dermatology': 1, 'Diploma in ABLS (USA)': 1, 'FPFA': 1, 'MDS - Preventive and Public Health Dentistry': 2, 'Certificate course in Reiki': 1, 'Certificate in Nutrition and Health in Hospitalized': 1, 'Certificate in Guidance and Counselling': 1, 'Post graduate diploma in Health Management': 1, 'PGDPC (Post Graduation Diploma In Psychological Counselling)': 3, 'MD - Transfusion Medicine': 1, 'MD - Bio-Chemistry': 1, 'PGD ND': 1, 'MBS (H)': 1, 'FIAMS': 2, 'Certified in Pedodontics': 1, 'FICS - ENT': 1, 'FRHS': 1, 'M.Sc - Biochemistry': 1, 'Fellow of the Royal College of Surgeons of Ireland': 1, 'Fundamental in Oral Implantology': 1, 'Doctorate of Medicine in Electro Homoeopathy(MDEH)': 1, 'D.D': 1, 'FCCS': 3, 'DSM ( Siddha Medicine)': 1, 'D.Ac': 1, 'MD - Social & Preventive Medicine / Community Medicine': 1, 'PGCE(Endodontics)': 1, 'MS - Ayurvedic Ophthalmology': 1, 'MNAMS - Nephrology': 1, 'DAFPRS Fellowship in Aesthetic Surgery': 1, 'Fellowship in Pediatric Endocrinology': 1, 'Diploma in Urology': 1, 'FRCPCH': 1, 'M Phil Psychology': 1, 'PDCC - Hand': 1, 'PG in Laser Dentistry': 1, 'Diploma in Obesity & Pain management': 1, 'Post Graduate Diploma in Health': 1, 'Family Welfare and Population': 1, 'DIH': 1, 'Doctor of Medicine': 2, 'M.D. Panchakarma': 1, 'M.Sc. Yoga and Naturopathy': 1, 'Certificate in Botox and Fillers': 1, 'MD - Pain Management': 1, 'FICA': 2, 'Diploma in Dietetics': 1, 'Health and Nutrition (DDHN)': 1, 'DVL': 2, 'Diplomate in Neuromuscular Functional Orthodontics And Gathology': 1, 'FIMSA': 2, 'MSc - Physiology': 1, 'PG Diploma Clinical Research': 1, 'Diploma in Dietetics & Public Health Nutrition (DDPHN)': 1, 'Robert Turner Diabetes Research Training': 1, 'WHO/IDF/EASD Cambridge Diabetes Training': 1, 'MS - Otrohinolaryngology': 1, 'AMI Essentials- Applied Workshop for Aesthetic Procedures': 1, 'Advanced Course in Cosmetology and Aesthetic Medicine': 2, 'Fellowship in Micro Ear surgery': 1, 'Fellowship in Snoring Surgery': 1, 'Diploma in Industrial Health': 1, 'MSc - Psychotherapy': 1, 'Certification of Life Coach': 1, 'PG - Homeo': 1, 'M.A - Sanskrit': 1, 'DNB - Endocrinology': 1, 'Diabetes': 1, 'Metabolism': 1, 'Certified Yoga and Pranic healing Therapist': 1, 'Certified National Diabetes Educator': 1, 'Bachelor of Acupuncture': 1, 'Certified Analytical Hypnotherapist': 1, 'Diploma in Physiotherapy': 1, 'Certificate in Medical Cosmetology': 1, 'MD - Radiotherapy': 1, 'Certificate course in SUJOK Therapy': 1, 'Fellowship In Clinical Cosmetology': 1, 'Cochlear Implant Surgery': 1, 'Fellowship Cochlear Implant Training': 1, 'Post Graduate Diploma in Psychological Counseling': 1, 'Post Graduate Diploma in Diabetology (PGDD)(Madras Medical College)': 1, 'Diploma in Skin Treatments (UK)': 1, 'Certification of Aesthetic Dentistry & Periodontics': 1, 'MCh - Burns & Plastic Surgery': 1, 'EULAR Certificate in Rheumatology': 1, 'FICO (UK)': 1, 'PhD - Dermatology & Venereology': 1, 'DNB - Pulmonary Medicine': 3, 'Post Graduate Certificate Course In Aesthetic Dentistry': 1, 'FACP': 1, 'Member of the Royal College of General Practitioners UK (MRCGP)': 1, 'MD - Geriatrics': 1, 'MD AYURVED AND YOG': 1, 'Training Certificate in Hair Transplant': 1, 'Certificate Course in Gestational Diabetes Mellitus': 1, 'P.G. Diploma in Yoga & Meditation': 1, 'MD-Ayurvedic Vachaspati': 1, 'Post Graduate Diploma in Sports Medicine': 1, 'MSc. - Dermatology Skills and Treatment (University of Hertfordshire)': 1, 'MSc - Applied Psychology': 1, 'FRCSEd': 1, 'MSc - Endocrinology(UK)': 1, 'MCh - Cardio Thoracic Surgery': 1, 'Masters in Surgery (MS)': 1, 'MD - (Medicine - Endocrinology)': 1, 'MCEM': 1, 'DFM (UK)': 1, 'DIPLOMA IN TB AND CHEST DISEASES': 1, 'Certification in Nutrition and Weight Management': 1, 'DAT(Diploma in Accupressure and foot Reflexology)': 1, 'MASLP': 1, 'Diploma in Radio Therapy': 1, 'FDSRCS - Fellowship in Dental Surgery': 2, 'Fellowship in ClearPath Aligners': 1, 'FAMS - Dermatology': 1, 'Diploma In Anatomy Physiology': 1, 'PDCC - Pediatric Endocrinology': 1, 'Diploma in Counselling and Psychotherapy': 1, 'MD - CCM': 1, 'Ph.D(Doctor of Philosophy)': 1, 'PG Diploma in Value Education and Spirtuality': 1, 'Certified Implantologist': 1, 'Fellowship in Surgical Oncology (Head & Neck)': 1, 'Continuing Education Certificate Program on Temporomandibular Joint Disorder and Orofacial Pain': 1, 'Post Graduate in Homeopathy(london)': 1, 'DNB - Radiation Oncology': 1, 'MDS - Operative Dentistry': 1, 'DTCD(Diploma in TB and Chest Dieseas)': 1, 'Member Of The National Academy Of Medical Sciences': 1, 'DNB - Radiotherapy': 1, 'Post Graduate Diploma in Diabetology (PGDD)(University of Leicester': 1, 'DRCOG': 1, 'FDS Endodontics': 1, 'Certified in Advanced Orthodontics': 1, 'certification in smile designing': 1}\n"
     ]
    }
   ],
   "source": [
    "dftrain[\"Qualification\"]=dftrain[\"Qualification\"].str.split(\",\")\n",
    "Qualification ={}\n",
    "for x in dftrain[\"Qualification\"].values:\n",
    "    for each in x:\n",
    "        each = each.strip()\n",
    "        if each in Qualification:\n",
    "            Qualification[each]+=1\n",
    "        else:\n",
    "            Qualification[each]=1\n",
    "            \n",
    "print(Qualification)"
   ]
  },
  {
   "cell_type": "code",
   "execution_count": 20,
   "metadata": {},
   "outputs": [
    {
     "name": "stdout",
     "output_type": "stream",
     "text": [
      "['MBBS', 'BDS', 'BAMS', 'BHMS', 'MD - Dermatology', 'MS - ENT', 'Venereology & Leprosy', 'MD - General Medicine', 'Diploma in Otorhinolaryngology (DLO)', 'MD - Homeopathy']\n"
     ]
    }
   ],
   "source": [
    "#Extract top 10 qualification\n",
    "most_qual = sorted(Qualification.items(),key=lambda x:x[1],reverse=True)[:10]\n",
    "final_qual = []\n",
    "for qual in most_qual:\n",
    "    final_qual.append(qual[0])\n",
    "    \n",
    "print(final_qual)"
   ]
  },
  {
   "cell_type": "code",
   "execution_count": 21,
   "metadata": {},
   "outputs": [],
   "source": [
    "#Encode extracted top 10 qualification into train dataset as new column.\n",
    "for qual in final_qual:\n",
    "    dftrain[qual] = 0\n",
    "\n",
    "for x,y in zip(dftrain['Qualification'].values, np.array([i for i in range(len(dftrain))])):\n",
    "    for c in x:\n",
    "        c = c.strip()\n",
    "        if c in final_qual:\n",
    "            dftrain[c][y] = 1"
   ]
  },
  {
   "cell_type": "code",
   "execution_count": 22,
   "metadata": {},
   "outputs": [
    {
     "data": {
      "text/plain": [
       "array([list(['BHMS', ' MD - Homeopathy']),\n",
       "       list(['BAMS', ' MD - Ayurveda Medicine']),\n",
       "       list(['MBBS', ' MS - Otorhinolaryngology']), ..., list(['MBBS']),\n",
       "       list(['MBBS', ' MD - General Medicine']),\n",
       "       list(['BDS', ' MDS - Orthodontics'])], dtype=object)"
      ]
     },
     "execution_count": 22,
     "metadata": {},
     "output_type": "execute_result"
    }
   ],
   "source": [
    "dftrain['Qualification'].values"
   ]
  },
  {
   "cell_type": "code",
   "execution_count": 23,
   "metadata": {},
   "outputs": [],
   "source": [
    "# Now we can drop the extra quali which we added \n",
    "dftrain.drop(['Qualification','Qualification_count'],axis=1,inplace=True)"
   ]
  },
  {
   "cell_type": "code",
   "execution_count": 24,
   "metadata": {},
   "outputs": [
    {
     "data": {
      "text/html": [
       "<div>\n",
       "<style scoped>\n",
       "    .dataframe tbody tr th:only-of-type {\n",
       "        vertical-align: middle;\n",
       "    }\n",
       "\n",
       "    .dataframe tbody tr th {\n",
       "        vertical-align: top;\n",
       "    }\n",
       "\n",
       "    .dataframe thead th {\n",
       "        text-align: right;\n",
       "    }\n",
       "</style>\n",
       "<table border=\"1\" class=\"dataframe\">\n",
       "  <thead>\n",
       "    <tr style=\"text-align: right;\">\n",
       "      <th></th>\n",
       "      <th>Experience</th>\n",
       "      <th>Rating</th>\n",
       "      <th>Profile</th>\n",
       "      <th>Miscellaneous_Info</th>\n",
       "      <th>Fees</th>\n",
       "      <th>locality</th>\n",
       "      <th>city</th>\n",
       "      <th>MBBS</th>\n",
       "      <th>BDS</th>\n",
       "      <th>BAMS</th>\n",
       "      <th>BHMS</th>\n",
       "      <th>MD - Dermatology</th>\n",
       "      <th>MS - ENT</th>\n",
       "      <th>Venereology &amp; Leprosy</th>\n",
       "      <th>MD - General Medicine</th>\n",
       "      <th>Diploma in Otorhinolaryngology (DLO)</th>\n",
       "      <th>MD - Homeopathy</th>\n",
       "    </tr>\n",
       "  </thead>\n",
       "  <tbody>\n",
       "    <tr>\n",
       "      <th>0</th>\n",
       "      <td>24</td>\n",
       "      <td>10</td>\n",
       "      <td>Homeopath</td>\n",
       "      <td>100% 16 Feedback Kakkanad, Ernakulam</td>\n",
       "      <td>100</td>\n",
       "      <td>Kakkanad</td>\n",
       "      <td>Ernakulam</td>\n",
       "      <td>0</td>\n",
       "      <td>0</td>\n",
       "      <td>0</td>\n",
       "      <td>1</td>\n",
       "      <td>0</td>\n",
       "      <td>0</td>\n",
       "      <td>0</td>\n",
       "      <td>0</td>\n",
       "      <td>0</td>\n",
       "      <td>1</td>\n",
       "    </tr>\n",
       "    <tr>\n",
       "      <th>1</th>\n",
       "      <td>12</td>\n",
       "      <td>10</td>\n",
       "      <td>Ayurveda</td>\n",
       "      <td>98% 76 Feedback Whitefield, Bangalore</td>\n",
       "      <td>350</td>\n",
       "      <td>Whitefield</td>\n",
       "      <td>Bangalore</td>\n",
       "      <td>0</td>\n",
       "      <td>0</td>\n",
       "      <td>1</td>\n",
       "      <td>0</td>\n",
       "      <td>0</td>\n",
       "      <td>0</td>\n",
       "      <td>0</td>\n",
       "      <td>0</td>\n",
       "      <td>0</td>\n",
       "      <td>0</td>\n",
       "    </tr>\n",
       "    <tr>\n",
       "      <th>2</th>\n",
       "      <td>9</td>\n",
       "      <td>0</td>\n",
       "      <td>ENT Specialist</td>\n",
       "      <td>NaN</td>\n",
       "      <td>300</td>\n",
       "      <td>Mathikere - BEL</td>\n",
       "      <td>Bangalore</td>\n",
       "      <td>1</td>\n",
       "      <td>0</td>\n",
       "      <td>0</td>\n",
       "      <td>0</td>\n",
       "      <td>0</td>\n",
       "      <td>0</td>\n",
       "      <td>0</td>\n",
       "      <td>0</td>\n",
       "      <td>0</td>\n",
       "      <td>0</td>\n",
       "    </tr>\n",
       "    <tr>\n",
       "      <th>3</th>\n",
       "      <td>12</td>\n",
       "      <td>0</td>\n",
       "      <td>Ayurveda</td>\n",
       "      <td>Bannerghatta Road, Bangalore ₹250 Available on...</td>\n",
       "      <td>250</td>\n",
       "      <td>Bannerghatta Road</td>\n",
       "      <td>Bangalore</td>\n",
       "      <td>0</td>\n",
       "      <td>0</td>\n",
       "      <td>1</td>\n",
       "      <td>0</td>\n",
       "      <td>0</td>\n",
       "      <td>0</td>\n",
       "      <td>0</td>\n",
       "      <td>0</td>\n",
       "      <td>0</td>\n",
       "      <td>0</td>\n",
       "    </tr>\n",
       "  </tbody>\n",
       "</table>\n",
       "</div>"
      ],
      "text/plain": [
       "   Experience Rating         Profile  \\\n",
       "0          24     10       Homeopath   \n",
       "1          12     10        Ayurveda   \n",
       "2           9      0  ENT Specialist   \n",
       "3          12      0        Ayurveda   \n",
       "\n",
       "                                  Miscellaneous_Info  Fees           locality  \\\n",
       "0               100% 16 Feedback Kakkanad, Ernakulam   100           Kakkanad   \n",
       "1              98% 76 Feedback Whitefield, Bangalore   350         Whitefield   \n",
       "2                                                NaN   300    Mathikere - BEL   \n",
       "3  Bannerghatta Road, Bangalore ₹250 Available on...   250  Bannerghatta Road   \n",
       "\n",
       "         city  MBBS  BDS  BAMS  BHMS  MD - Dermatology  MS - ENT  \\\n",
       "0   Ernakulam     0    0     0     1                 0         0   \n",
       "1   Bangalore     0    0     1     0                 0         0   \n",
       "2   Bangalore     1    0     0     0                 0         0   \n",
       "3   Bangalore     0    0     1     0                 0         0   \n",
       "\n",
       "   Venereology & Leprosy  MD - General Medicine  \\\n",
       "0                      0                      0   \n",
       "1                      0                      0   \n",
       "2                      0                      0   \n",
       "3                      0                      0   \n",
       "\n",
       "   Diploma in Otorhinolaryngology (DLO)  MD - Homeopathy  \n",
       "0                                     0                1  \n",
       "1                                     0                0  \n",
       "2                                     0                0  \n",
       "3                                     0                0  "
      ]
     },
     "execution_count": 24,
     "metadata": {},
     "output_type": "execute_result"
    }
   ],
   "source": [
    "dftrain.head(4)"
   ]
  },
  {
   "cell_type": "markdown",
   "metadata": {},
   "source": [
    "<b>Interpretation</b><br>\n",
    "Now, we can see that we are having top 10 Qual columns in our training set which are perfectly one-hot encoded. where there is 2 Qual from top 10 in that row two 1 are there, and it's correct."
   ]
  },
  {
   "cell_type": "code",
   "execution_count": 25,
   "metadata": {},
   "outputs": [
    {
     "data": {
      "text/plain": [
       "array([' Ernakulam', ' Bangalore', ' Chennai', ' Delhi', ' Hyderabad',\n",
       "       ' Coimbatore', ' Mumbai', ' Thiruvananthapuram', 'Unknown',\n",
       "       ' Sector 5', nan], dtype=object)"
      ]
     },
     "execution_count": 25,
     "metadata": {},
     "output_type": "execute_result"
    }
   ],
   "source": [
    "# CITY COLUMN\n",
    "dftrain['city'].unique()"
   ]
  },
  {
   "cell_type": "code",
   "execution_count": 26,
   "metadata": {},
   "outputs": [],
   "source": [
    "# remove the extra spaces before the city\n",
    "import re\n",
    "dftrain['city'] = dftrain['city'].apply(lambda x: re.sub(' +','',str(x)))"
   ]
  },
  {
   "cell_type": "code",
   "execution_count": 27,
   "metadata": {},
   "outputs": [
    {
     "data": {
      "text/plain": [
       "Bangalore             1258\n",
       "Mumbai                1219\n",
       "Delhi                 1184\n",
       "Hyderabad              951\n",
       "Chennai                855\n",
       "Coimbatore             228\n",
       "Ernakulam              153\n",
       "Thiruvananthapuram      86\n",
       "Unknown                 25\n",
       "nan                      1\n",
       "Sector5                  1\n",
       "Name: city, dtype: int64"
      ]
     },
     "execution_count": 27,
     "metadata": {},
     "output_type": "execute_result"
    }
   ],
   "source": [
    "dftrain['city'].value_counts()"
   ]
  },
  {
   "cell_type": "code",
   "execution_count": 28,
   "metadata": {},
   "outputs": [
    {
     "data": {
      "text/html": [
       "<div>\n",
       "<style scoped>\n",
       "    .dataframe tbody tr th:only-of-type {\n",
       "        vertical-align: middle;\n",
       "    }\n",
       "\n",
       "    .dataframe tbody tr th {\n",
       "        vertical-align: top;\n",
       "    }\n",
       "\n",
       "    .dataframe thead th {\n",
       "        text-align: right;\n",
       "    }\n",
       "</style>\n",
       "<table border=\"1\" class=\"dataframe\">\n",
       "  <thead>\n",
       "    <tr style=\"text-align: right;\">\n",
       "      <th></th>\n",
       "      <th>Experience</th>\n",
       "      <th>Rating</th>\n",
       "      <th>Profile</th>\n",
       "      <th>Miscellaneous_Info</th>\n",
       "      <th>Fees</th>\n",
       "      <th>locality</th>\n",
       "      <th>city</th>\n",
       "      <th>MBBS</th>\n",
       "      <th>BDS</th>\n",
       "      <th>BAMS</th>\n",
       "      <th>BHMS</th>\n",
       "      <th>MD - Dermatology</th>\n",
       "      <th>MS - ENT</th>\n",
       "      <th>Venereology &amp; Leprosy</th>\n",
       "      <th>MD - General Medicine</th>\n",
       "      <th>Diploma in Otorhinolaryngology (DLO)</th>\n",
       "      <th>MD - Homeopathy</th>\n",
       "    </tr>\n",
       "  </thead>\n",
       "  <tbody>\n",
       "    <tr>\n",
       "      <th>2169</th>\n",
       "      <td>11</td>\n",
       "      <td>0</td>\n",
       "      <td>Dentist</td>\n",
       "      <td>NaN</td>\n",
       "      <td>250</td>\n",
       "      <td>Dwarka</td>\n",
       "      <td>Sector5</td>\n",
       "      <td>0</td>\n",
       "      <td>1</td>\n",
       "      <td>0</td>\n",
       "      <td>0</td>\n",
       "      <td>0</td>\n",
       "      <td>0</td>\n",
       "      <td>0</td>\n",
       "      <td>0</td>\n",
       "      <td>0</td>\n",
       "      <td>0</td>\n",
       "    </tr>\n",
       "    <tr>\n",
       "      <th>3980</th>\n",
       "      <td>23</td>\n",
       "      <td>0</td>\n",
       "      <td>Dentist</td>\n",
       "      <td>NaN</td>\n",
       "      <td>250</td>\n",
       "      <td>e</td>\n",
       "      <td>nan</td>\n",
       "      <td>0</td>\n",
       "      <td>1</td>\n",
       "      <td>0</td>\n",
       "      <td>0</td>\n",
       "      <td>0</td>\n",
       "      <td>0</td>\n",
       "      <td>0</td>\n",
       "      <td>0</td>\n",
       "      <td>0</td>\n",
       "      <td>0</td>\n",
       "    </tr>\n",
       "  </tbody>\n",
       "</table>\n",
       "</div>"
      ],
      "text/plain": [
       "      Experience Rating  Profile Miscellaneous_Info  Fees locality     city  \\\n",
       "2169          11      0  Dentist                NaN   250   Dwarka  Sector5   \n",
       "3980          23      0  Dentist                NaN   250        e      nan   \n",
       "\n",
       "      MBBS  BDS  BAMS  BHMS  MD - Dermatology  MS - ENT  \\\n",
       "2169     0    1     0     0                 0         0   \n",
       "3980     0    1     0     0                 0         0   \n",
       "\n",
       "      Venereology & Leprosy  MD - General Medicine  \\\n",
       "2169                      0                      0   \n",
       "3980                      0                      0   \n",
       "\n",
       "      Diploma in Otorhinolaryngology (DLO)  MD - Homeopathy  \n",
       "2169                                     0                0  \n",
       "3980                                     0                0  "
      ]
     },
     "execution_count": 28,
     "metadata": {},
     "output_type": "execute_result"
    }
   ],
   "source": [
    "# city contains some improper data.\n",
    "dftrain[(dftrain['city'] == \"nan\") | (dftrain['city'] == \"Sector5\")]"
   ]
  },
  {
   "cell_type": "code",
   "execution_count": 29,
   "metadata": {},
   "outputs": [
    {
     "data": {
      "text/html": [
       "<div>\n",
       "<style scoped>\n",
       "    .dataframe tbody tr th:only-of-type {\n",
       "        vertical-align: middle;\n",
       "    }\n",
       "\n",
       "    .dataframe tbody tr th {\n",
       "        vertical-align: top;\n",
       "    }\n",
       "\n",
       "    .dataframe thead th {\n",
       "        text-align: right;\n",
       "    }\n",
       "</style>\n",
       "<table border=\"1\" class=\"dataframe\">\n",
       "  <thead>\n",
       "    <tr style=\"text-align: right;\">\n",
       "      <th></th>\n",
       "      <th>Experience</th>\n",
       "      <th>Rating</th>\n",
       "      <th>Profile</th>\n",
       "      <th>Miscellaneous_Info</th>\n",
       "      <th>Fees</th>\n",
       "      <th>locality</th>\n",
       "      <th>city</th>\n",
       "      <th>MBBS</th>\n",
       "      <th>BDS</th>\n",
       "      <th>BAMS</th>\n",
       "      <th>BHMS</th>\n",
       "      <th>MD - Dermatology</th>\n",
       "      <th>MS - ENT</th>\n",
       "      <th>Venereology &amp; Leprosy</th>\n",
       "      <th>MD - General Medicine</th>\n",
       "      <th>Diploma in Otorhinolaryngology (DLO)</th>\n",
       "      <th>MD - Homeopathy</th>\n",
       "    </tr>\n",
       "  </thead>\n",
       "  <tbody>\n",
       "    <tr>\n",
       "      <th>166</th>\n",
       "      <td>7</td>\n",
       "      <td>0</td>\n",
       "      <td>Dentist</td>\n",
       "      <td>Wisdom Tooth Extraction Oral &amp; Maxillofacial S...</td>\n",
       "      <td>300</td>\n",
       "      <td>Dwarka</td>\n",
       "      <td>Delhi</td>\n",
       "      <td>0</td>\n",
       "      <td>1</td>\n",
       "      <td>0</td>\n",
       "      <td>0</td>\n",
       "      <td>0</td>\n",
       "      <td>0</td>\n",
       "      <td>0</td>\n",
       "      <td>0</td>\n",
       "      <td>0</td>\n",
       "      <td>0</td>\n",
       "    </tr>\n",
       "    <tr>\n",
       "      <th>299</th>\n",
       "      <td>8</td>\n",
       "      <td>0</td>\n",
       "      <td>Homeopath</td>\n",
       "      <td>NaN</td>\n",
       "      <td>250</td>\n",
       "      <td>Dwarka</td>\n",
       "      <td>Delhi</td>\n",
       "      <td>0</td>\n",
       "      <td>0</td>\n",
       "      <td>0</td>\n",
       "      <td>1</td>\n",
       "      <td>0</td>\n",
       "      <td>0</td>\n",
       "      <td>0</td>\n",
       "      <td>0</td>\n",
       "      <td>0</td>\n",
       "      <td>0</td>\n",
       "    </tr>\n",
       "    <tr>\n",
       "      <th>306</th>\n",
       "      <td>31</td>\n",
       "      <td>0</td>\n",
       "      <td>General Medicine</td>\n",
       "      <td>NaN</td>\n",
       "      <td>300</td>\n",
       "      <td>Dwarka</td>\n",
       "      <td>Delhi</td>\n",
       "      <td>1</td>\n",
       "      <td>0</td>\n",
       "      <td>0</td>\n",
       "      <td>0</td>\n",
       "      <td>0</td>\n",
       "      <td>0</td>\n",
       "      <td>0</td>\n",
       "      <td>0</td>\n",
       "      <td>0</td>\n",
       "      <td>0</td>\n",
       "    </tr>\n",
       "    <tr>\n",
       "      <th>485</th>\n",
       "      <td>30</td>\n",
       "      <td>0</td>\n",
       "      <td>Ayurveda</td>\n",
       "      <td>NaN</td>\n",
       "      <td>200</td>\n",
       "      <td>Dwarka</td>\n",
       "      <td>Delhi</td>\n",
       "      <td>0</td>\n",
       "      <td>0</td>\n",
       "      <td>1</td>\n",
       "      <td>0</td>\n",
       "      <td>0</td>\n",
       "      <td>0</td>\n",
       "      <td>0</td>\n",
       "      <td>0</td>\n",
       "      <td>0</td>\n",
       "      <td>0</td>\n",
       "    </tr>\n",
       "    <tr>\n",
       "      <th>690</th>\n",
       "      <td>19</td>\n",
       "      <td>10</td>\n",
       "      <td>General Medicine</td>\n",
       "      <td>98% 72 Feedback Dwarka, Delhi</td>\n",
       "      <td>700</td>\n",
       "      <td>Dwarka</td>\n",
       "      <td>Delhi</td>\n",
       "      <td>1</td>\n",
       "      <td>0</td>\n",
       "      <td>0</td>\n",
       "      <td>0</td>\n",
       "      <td>0</td>\n",
       "      <td>0</td>\n",
       "      <td>0</td>\n",
       "      <td>0</td>\n",
       "      <td>0</td>\n",
       "      <td>0</td>\n",
       "    </tr>\n",
       "    <tr>\n",
       "      <th>...</th>\n",
       "      <td>...</td>\n",
       "      <td>...</td>\n",
       "      <td>...</td>\n",
       "      <td>...</td>\n",
       "      <td>...</td>\n",
       "      <td>...</td>\n",
       "      <td>...</td>\n",
       "      <td>...</td>\n",
       "      <td>...</td>\n",
       "      <td>...</td>\n",
       "      <td>...</td>\n",
       "      <td>...</td>\n",
       "      <td>...</td>\n",
       "      <td>...</td>\n",
       "      <td>...</td>\n",
       "      <td>...</td>\n",
       "      <td>...</td>\n",
       "    </tr>\n",
       "    <tr>\n",
       "      <th>5612</th>\n",
       "      <td>30</td>\n",
       "      <td>7</td>\n",
       "      <td>ENT Specialist</td>\n",
       "      <td>67% 5 Feedback Dwarka, Delhi</td>\n",
       "      <td>400</td>\n",
       "      <td>Dwarka</td>\n",
       "      <td>Delhi</td>\n",
       "      <td>1</td>\n",
       "      <td>0</td>\n",
       "      <td>0</td>\n",
       "      <td>0</td>\n",
       "      <td>0</td>\n",
       "      <td>1</td>\n",
       "      <td>0</td>\n",
       "      <td>0</td>\n",
       "      <td>0</td>\n",
       "      <td>0</td>\n",
       "    </tr>\n",
       "    <tr>\n",
       "      <th>5685</th>\n",
       "      <td>19</td>\n",
       "      <td>10</td>\n",
       "      <td>Dermatologists</td>\n",
       "      <td>98% 10 Feedback Dwarka, Delhi</td>\n",
       "      <td>400</td>\n",
       "      <td>Dwarka</td>\n",
       "      <td>Delhi</td>\n",
       "      <td>1</td>\n",
       "      <td>0</td>\n",
       "      <td>0</td>\n",
       "      <td>0</td>\n",
       "      <td>0</td>\n",
       "      <td>0</td>\n",
       "      <td>0</td>\n",
       "      <td>0</td>\n",
       "      <td>0</td>\n",
       "      <td>0</td>\n",
       "    </tr>\n",
       "    <tr>\n",
       "      <th>5724</th>\n",
       "      <td>11</td>\n",
       "      <td>0</td>\n",
       "      <td>Dentist</td>\n",
       "      <td>Complete/Partial Dentures Fixing Impaction / I...</td>\n",
       "      <td>300</td>\n",
       "      <td>Dwarka</td>\n",
       "      <td>Delhi</td>\n",
       "      <td>0</td>\n",
       "      <td>1</td>\n",
       "      <td>0</td>\n",
       "      <td>0</td>\n",
       "      <td>0</td>\n",
       "      <td>0</td>\n",
       "      <td>0</td>\n",
       "      <td>0</td>\n",
       "      <td>0</td>\n",
       "      <td>0</td>\n",
       "    </tr>\n",
       "    <tr>\n",
       "      <th>5886</th>\n",
       "      <td>11</td>\n",
       "      <td>10</td>\n",
       "      <td>Dermatologists</td>\n",
       "      <td>100% 43 Feedback Dwarka, Delhi</td>\n",
       "      <td>600</td>\n",
       "      <td>Dwarka</td>\n",
       "      <td>Delhi</td>\n",
       "      <td>1</td>\n",
       "      <td>0</td>\n",
       "      <td>0</td>\n",
       "      <td>0</td>\n",
       "      <td>1</td>\n",
       "      <td>0</td>\n",
       "      <td>1</td>\n",
       "      <td>0</td>\n",
       "      <td>0</td>\n",
       "      <td>0</td>\n",
       "    </tr>\n",
       "    <tr>\n",
       "      <th>5946</th>\n",
       "      <td>12</td>\n",
       "      <td>10</td>\n",
       "      <td>Dentist</td>\n",
       "      <td>Cosmetic/ Aesthetic Dentistry Complete/Partial...</td>\n",
       "      <td>300</td>\n",
       "      <td>Dwarka</td>\n",
       "      <td>Delhi</td>\n",
       "      <td>0</td>\n",
       "      <td>1</td>\n",
       "      <td>0</td>\n",
       "      <td>0</td>\n",
       "      <td>0</td>\n",
       "      <td>0</td>\n",
       "      <td>0</td>\n",
       "      <td>0</td>\n",
       "      <td>0</td>\n",
       "      <td>0</td>\n",
       "    </tr>\n",
       "  </tbody>\n",
       "</table>\n",
       "<p>68 rows × 17 columns</p>\n",
       "</div>"
      ],
      "text/plain": [
       "      Experience Rating           Profile  \\\n",
       "166            7      0           Dentist   \n",
       "299            8      0         Homeopath   \n",
       "306           31      0  General Medicine   \n",
       "485           30      0          Ayurveda   \n",
       "690           19     10  General Medicine   \n",
       "...          ...    ...               ...   \n",
       "5612          30      7    ENT Specialist   \n",
       "5685          19     10    Dermatologists   \n",
       "5724          11      0           Dentist   \n",
       "5886          11     10    Dermatologists   \n",
       "5946          12     10           Dentist   \n",
       "\n",
       "                                     Miscellaneous_Info  Fees locality   city  \\\n",
       "166   Wisdom Tooth Extraction Oral & Maxillofacial S...   300   Dwarka  Delhi   \n",
       "299                                                 NaN   250   Dwarka  Delhi   \n",
       "306                                                 NaN   300   Dwarka  Delhi   \n",
       "485                                                 NaN   200   Dwarka  Delhi   \n",
       "690                       98% 72 Feedback Dwarka, Delhi   700   Dwarka  Delhi   \n",
       "...                                                 ...   ...      ...    ...   \n",
       "5612                       67% 5 Feedback Dwarka, Delhi   400   Dwarka  Delhi   \n",
       "5685                      98% 10 Feedback Dwarka, Delhi   400   Dwarka  Delhi   \n",
       "5724  Complete/Partial Dentures Fixing Impaction / I...   300   Dwarka  Delhi   \n",
       "5886                     100% 43 Feedback Dwarka, Delhi   600   Dwarka  Delhi   \n",
       "5946  Cosmetic/ Aesthetic Dentistry Complete/Partial...   300   Dwarka  Delhi   \n",
       "\n",
       "      MBBS  BDS  BAMS  BHMS  MD - Dermatology  MS - ENT  \\\n",
       "166      0    1     0     0                 0         0   \n",
       "299      0    0     0     1                 0         0   \n",
       "306      1    0     0     0                 0         0   \n",
       "485      0    0     1     0                 0         0   \n",
       "690      1    0     0     0                 0         0   \n",
       "...    ...  ...   ...   ...               ...       ...   \n",
       "5612     1    0     0     0                 0         1   \n",
       "5685     1    0     0     0                 0         0   \n",
       "5724     0    1     0     0                 0         0   \n",
       "5886     1    0     0     0                 1         0   \n",
       "5946     0    1     0     0                 0         0   \n",
       "\n",
       "      Venereology & Leprosy  MD - General Medicine  \\\n",
       "166                       0                      0   \n",
       "299                       0                      0   \n",
       "306                       0                      0   \n",
       "485                       0                      0   \n",
       "690                       0                      0   \n",
       "...                     ...                    ...   \n",
       "5612                      0                      0   \n",
       "5685                      0                      0   \n",
       "5724                      0                      0   \n",
       "5886                      1                      0   \n",
       "5946                      0                      0   \n",
       "\n",
       "      Diploma in Otorhinolaryngology (DLO)  MD - Homeopathy  \n",
       "166                                      0                0  \n",
       "299                                      0                0  \n",
       "306                                      0                0  \n",
       "485                                      0                0  \n",
       "690                                      0                0  \n",
       "...                                    ...              ...  \n",
       "5612                                     0                0  \n",
       "5685                                     0                0  \n",
       "5724                                     0                0  \n",
       "5886                                     0                0  \n",
       "5946                                     0                0  \n",
       "\n",
       "[68 rows x 17 columns]"
      ]
     },
     "execution_count": 29,
     "metadata": {},
     "output_type": "execute_result"
    }
   ],
   "source": [
    "dftrain[dftrain['locality'] == 'Dwarka']  "
   ]
  },
  {
   "cell_type": "markdown",
   "metadata": {},
   "source": [
    "*whereever the locality is Dwarka the city is Delhi, and this Sector5 is area of that so it's misclassified here. which we have to correct.<br>\n",
    "*And where city nan there we have to impute this to unknown in locality and city both."
   ]
  },
  {
   "cell_type": "code",
   "execution_count": 30,
   "metadata": {},
   "outputs": [],
   "source": [
    "dftrain['city'] = np.where(dftrain['city']==\"Sector5\",\"Delhi\", dftrain['city'])\n",
    "\n",
    "#nan\n",
    "dftrain['city'].loc[3980] = \"Unknown\"\n",
    "dftrain['locality'].loc[3980] = \"Unknown\""
   ]
  },
  {
   "cell_type": "code",
   "execution_count": 31,
   "metadata": {},
   "outputs": [
    {
     "data": {
      "text/html": [
       "<div>\n",
       "<style scoped>\n",
       "    .dataframe tbody tr th:only-of-type {\n",
       "        vertical-align: middle;\n",
       "    }\n",
       "\n",
       "    .dataframe tbody tr th {\n",
       "        vertical-align: top;\n",
       "    }\n",
       "\n",
       "    .dataframe thead th {\n",
       "        text-align: right;\n",
       "    }\n",
       "</style>\n",
       "<table border=\"1\" class=\"dataframe\">\n",
       "  <thead>\n",
       "    <tr style=\"text-align: right;\">\n",
       "      <th></th>\n",
       "      <th>Experience</th>\n",
       "      <th>Rating</th>\n",
       "      <th>Profile</th>\n",
       "      <th>Miscellaneous_Info</th>\n",
       "      <th>Fees</th>\n",
       "      <th>locality</th>\n",
       "      <th>city</th>\n",
       "      <th>MBBS</th>\n",
       "      <th>BDS</th>\n",
       "      <th>BAMS</th>\n",
       "      <th>BHMS</th>\n",
       "      <th>MD - Dermatology</th>\n",
       "      <th>MS - ENT</th>\n",
       "      <th>Venereology &amp; Leprosy</th>\n",
       "      <th>MD - General Medicine</th>\n",
       "      <th>Diploma in Otorhinolaryngology (DLO)</th>\n",
       "      <th>MD - Homeopathy</th>\n",
       "    </tr>\n",
       "  </thead>\n",
       "  <tbody>\n",
       "    <tr>\n",
       "      <th>0</th>\n",
       "      <td>24</td>\n",
       "      <td>10</td>\n",
       "      <td>Homeopath</td>\n",
       "      <td>100% 16 Feedback Kakkanad, Ernakulam</td>\n",
       "      <td>100</td>\n",
       "      <td>Kakkanad</td>\n",
       "      <td>Ernakulam</td>\n",
       "      <td>0</td>\n",
       "      <td>0</td>\n",
       "      <td>0</td>\n",
       "      <td>1</td>\n",
       "      <td>0</td>\n",
       "      <td>0</td>\n",
       "      <td>0</td>\n",
       "      <td>0</td>\n",
       "      <td>0</td>\n",
       "      <td>1</td>\n",
       "    </tr>\n",
       "    <tr>\n",
       "      <th>1</th>\n",
       "      <td>12</td>\n",
       "      <td>10</td>\n",
       "      <td>Ayurveda</td>\n",
       "      <td>98% 76 Feedback Whitefield, Bangalore</td>\n",
       "      <td>350</td>\n",
       "      <td>Whitefield</td>\n",
       "      <td>Bangalore</td>\n",
       "      <td>0</td>\n",
       "      <td>0</td>\n",
       "      <td>1</td>\n",
       "      <td>0</td>\n",
       "      <td>0</td>\n",
       "      <td>0</td>\n",
       "      <td>0</td>\n",
       "      <td>0</td>\n",
       "      <td>0</td>\n",
       "      <td>0</td>\n",
       "    </tr>\n",
       "    <tr>\n",
       "      <th>2</th>\n",
       "      <td>9</td>\n",
       "      <td>0</td>\n",
       "      <td>ENT Specialist</td>\n",
       "      <td>NaN</td>\n",
       "      <td>300</td>\n",
       "      <td>Mathikere - BEL</td>\n",
       "      <td>Bangalore</td>\n",
       "      <td>1</td>\n",
       "      <td>0</td>\n",
       "      <td>0</td>\n",
       "      <td>0</td>\n",
       "      <td>0</td>\n",
       "      <td>0</td>\n",
       "      <td>0</td>\n",
       "      <td>0</td>\n",
       "      <td>0</td>\n",
       "      <td>0</td>\n",
       "    </tr>\n",
       "    <tr>\n",
       "      <th>3</th>\n",
       "      <td>12</td>\n",
       "      <td>0</td>\n",
       "      <td>Ayurveda</td>\n",
       "      <td>Bannerghatta Road, Bangalore ₹250 Available on...</td>\n",
       "      <td>250</td>\n",
       "      <td>Bannerghatta Road</td>\n",
       "      <td>Bangalore</td>\n",
       "      <td>0</td>\n",
       "      <td>0</td>\n",
       "      <td>1</td>\n",
       "      <td>0</td>\n",
       "      <td>0</td>\n",
       "      <td>0</td>\n",
       "      <td>0</td>\n",
       "      <td>0</td>\n",
       "      <td>0</td>\n",
       "      <td>0</td>\n",
       "    </tr>\n",
       "    <tr>\n",
       "      <th>4</th>\n",
       "      <td>20</td>\n",
       "      <td>10</td>\n",
       "      <td>Ayurveda</td>\n",
       "      <td>100% 4 Feedback Keelkattalai, Chennai</td>\n",
       "      <td>250</td>\n",
       "      <td>Keelkattalai</td>\n",
       "      <td>Chennai</td>\n",
       "      <td>0</td>\n",
       "      <td>0</td>\n",
       "      <td>1</td>\n",
       "      <td>0</td>\n",
       "      <td>0</td>\n",
       "      <td>0</td>\n",
       "      <td>0</td>\n",
       "      <td>0</td>\n",
       "      <td>0</td>\n",
       "      <td>0</td>\n",
       "    </tr>\n",
       "  </tbody>\n",
       "</table>\n",
       "</div>"
      ],
      "text/plain": [
       "   Experience Rating         Profile  \\\n",
       "0          24     10       Homeopath   \n",
       "1          12     10        Ayurveda   \n",
       "2           9      0  ENT Specialist   \n",
       "3          12      0        Ayurveda   \n",
       "4          20     10        Ayurveda   \n",
       "\n",
       "                                  Miscellaneous_Info  Fees           locality  \\\n",
       "0               100% 16 Feedback Kakkanad, Ernakulam   100           Kakkanad   \n",
       "1              98% 76 Feedback Whitefield, Bangalore   350         Whitefield   \n",
       "2                                                NaN   300    Mathikere - BEL   \n",
       "3  Bannerghatta Road, Bangalore ₹250 Available on...   250  Bannerghatta Road   \n",
       "4              100% 4 Feedback Keelkattalai, Chennai   250       Keelkattalai   \n",
       "\n",
       "        city  MBBS  BDS  BAMS  BHMS  MD - Dermatology  MS - ENT  \\\n",
       "0  Ernakulam     0    0     0     1                 0         0   \n",
       "1  Bangalore     0    0     1     0                 0         0   \n",
       "2  Bangalore     1    0     0     0                 0         0   \n",
       "3  Bangalore     0    0     1     0                 0         0   \n",
       "4    Chennai     0    0     1     0                 0         0   \n",
       "\n",
       "   Venereology & Leprosy  MD - General Medicine  \\\n",
       "0                      0                      0   \n",
       "1                      0                      0   \n",
       "2                      0                      0   \n",
       "3                      0                      0   \n",
       "4                      0                      0   \n",
       "\n",
       "   Diploma in Otorhinolaryngology (DLO)  MD - Homeopathy  \n",
       "0                                     0                1  \n",
       "1                                     0                0  \n",
       "2                                     0                0  \n",
       "3                                     0                0  \n",
       "4                                     0                0  "
      ]
     },
     "execution_count": 31,
     "metadata": {},
     "output_type": "execute_result"
    }
   ],
   "source": [
    "dftrain.head()"
   ]
  },
  {
   "cell_type": "code",
   "execution_count": 32,
   "metadata": {},
   "outputs": [
    {
     "data": {
      "text/plain": [
       "city\n",
       "Bangalore             153\n",
       "Chennai               124\n",
       "Coimbatore             48\n",
       "Delhi                 200\n",
       "Ernakulam              52\n",
       "Hyderabad             135\n",
       "Mumbai                115\n",
       "Thiruvananthapuram     48\n",
       "Unknown                 1\n",
       "Name: locality, dtype: int64"
      ]
     },
     "execution_count": 32,
     "metadata": {},
     "output_type": "execute_result"
    }
   ],
   "source": [
    "# let's see for each city how much locality data is there\n",
    "dftrain.groupby('city')['locality'].nunique()"
   ]
  },
  {
   "cell_type": "code",
   "execution_count": 33,
   "metadata": {},
   "outputs": [],
   "source": [
    "dftrain.to_csv('data_correct.csv',index=False)"
   ]
  },
  {
   "cell_type": "code",
   "execution_count": 34,
   "metadata": {},
   "outputs": [
    {
     "data": {
      "text/html": [
       "<div>\n",
       "<style scoped>\n",
       "    .dataframe tbody tr th:only-of-type {\n",
       "        vertical-align: middle;\n",
       "    }\n",
       "\n",
       "    .dataframe tbody tr th {\n",
       "        vertical-align: top;\n",
       "    }\n",
       "\n",
       "    .dataframe thead th {\n",
       "        text-align: right;\n",
       "    }\n",
       "</style>\n",
       "<table border=\"1\" class=\"dataframe\">\n",
       "  <thead>\n",
       "    <tr style=\"text-align: right;\">\n",
       "      <th></th>\n",
       "      <th>Experience</th>\n",
       "      <th>Rating</th>\n",
       "      <th>Profile</th>\n",
       "      <th>Miscellaneous_Info</th>\n",
       "      <th>Fees</th>\n",
       "      <th>locality</th>\n",
       "      <th>city</th>\n",
       "      <th>MBBS</th>\n",
       "      <th>BDS</th>\n",
       "      <th>BAMS</th>\n",
       "      <th>BHMS</th>\n",
       "      <th>MD - Dermatology</th>\n",
       "      <th>MS - ENT</th>\n",
       "      <th>Venereology &amp; Leprosy</th>\n",
       "      <th>MD - General Medicine</th>\n",
       "      <th>Diploma in Otorhinolaryngology (DLO)</th>\n",
       "      <th>MD - Homeopathy</th>\n",
       "    </tr>\n",
       "  </thead>\n",
       "  <tbody>\n",
       "    <tr>\n",
       "      <th>0</th>\n",
       "      <td>24</td>\n",
       "      <td>10</td>\n",
       "      <td>Homeopath</td>\n",
       "      <td>100% 16 Feedback Kakkanad, Ernakulam</td>\n",
       "      <td>100</td>\n",
       "      <td>Kakkanad</td>\n",
       "      <td>Ernakulam</td>\n",
       "      <td>0</td>\n",
       "      <td>0</td>\n",
       "      <td>0</td>\n",
       "      <td>1</td>\n",
       "      <td>0</td>\n",
       "      <td>0</td>\n",
       "      <td>0</td>\n",
       "      <td>0</td>\n",
       "      <td>0</td>\n",
       "      <td>1</td>\n",
       "    </tr>\n",
       "    <tr>\n",
       "      <th>1</th>\n",
       "      <td>12</td>\n",
       "      <td>10</td>\n",
       "      <td>Ayurveda</td>\n",
       "      <td>98% 76 Feedback Whitefield, Bangalore</td>\n",
       "      <td>350</td>\n",
       "      <td>Whitefield</td>\n",
       "      <td>Bangalore</td>\n",
       "      <td>0</td>\n",
       "      <td>0</td>\n",
       "      <td>1</td>\n",
       "      <td>0</td>\n",
       "      <td>0</td>\n",
       "      <td>0</td>\n",
       "      <td>0</td>\n",
       "      <td>0</td>\n",
       "      <td>0</td>\n",
       "      <td>0</td>\n",
       "    </tr>\n",
       "    <tr>\n",
       "      <th>2</th>\n",
       "      <td>9</td>\n",
       "      <td>0</td>\n",
       "      <td>ENT Specialist</td>\n",
       "      <td>NaN</td>\n",
       "      <td>300</td>\n",
       "      <td>Mathikere - BEL</td>\n",
       "      <td>Bangalore</td>\n",
       "      <td>1</td>\n",
       "      <td>0</td>\n",
       "      <td>0</td>\n",
       "      <td>0</td>\n",
       "      <td>0</td>\n",
       "      <td>0</td>\n",
       "      <td>0</td>\n",
       "      <td>0</td>\n",
       "      <td>0</td>\n",
       "      <td>0</td>\n",
       "    </tr>\n",
       "  </tbody>\n",
       "</table>\n",
       "</div>"
      ],
      "text/plain": [
       "   Experience Rating         Profile                     Miscellaneous_Info  \\\n",
       "0          24     10       Homeopath   100% 16 Feedback Kakkanad, Ernakulam   \n",
       "1          12     10        Ayurveda  98% 76 Feedback Whitefield, Bangalore   \n",
       "2           9      0  ENT Specialist                                    NaN   \n",
       "\n",
       "   Fees         locality       city  MBBS  BDS  BAMS  BHMS  MD - Dermatology  \\\n",
       "0   100         Kakkanad  Ernakulam     0    0     0     1                 0   \n",
       "1   350       Whitefield  Bangalore     0    0     1     0                 0   \n",
       "2   300  Mathikere - BEL  Bangalore     1    0     0     0                 0   \n",
       "\n",
       "   MS - ENT  Venereology & Leprosy  MD - General Medicine  \\\n",
       "0         0                      0                      0   \n",
       "1         0                      0                      0   \n",
       "2         0                      0                      0   \n",
       "\n",
       "   Diploma in Otorhinolaryngology (DLO)  MD - Homeopathy  \n",
       "0                                     0                1  \n",
       "1                                     0                0  \n",
       "2                                     0                0  "
      ]
     },
     "execution_count": 34,
     "metadata": {},
     "output_type": "execute_result"
    }
   ],
   "source": [
    "dftrain.head(3)"
   ]
  },
  {
   "cell_type": "markdown",
   "metadata": {},
   "source": [
    "<b>Categorical Encoding</b><br>\n",
    "Before encoding a categorical variable, look at relationship of data with respect to target column To have better understand the data"
   ]
  },
  {
   "cell_type": "code",
   "execution_count": 35,
   "metadata": {},
   "outputs": [
    {
     "data": {
      "image/png": "[encoded data removed]",
      "text/plain": [
       "<Figure size 576x576 with 1 Axes>"
      ]
     },
     "metadata": {
      "needs_background": "light"
     },
     "output_type": "display_data"
    }
   ],
   "source": [
    "plt.figure(figsize=(8,8))\n",
    "sns.barplot(x='Profile',y='Fees',data=dftrain)\n",
    "plt.title(\"Doctor Fees wrt Profile\")\n",
    "plt.xticks(rotation=45)\n",
    "plt.show()"
   ]
  },
  {
   "cell_type": "code",
   "execution_count": 36,
   "metadata": {},
   "outputs": [
    {
     "data": {
      "image/png": "[encoded data removed]",
      "text/plain": [
       "<Figure size 720x576 with 1 Axes>"
      ]
     },
     "metadata": {
      "needs_background": "light"
     },
     "output_type": "display_data"
    }
   ],
   "source": [
    "plt.figure(figsize=(10,8))\n",
    "sns.barplot(x='city',y='Fees',data=dftrain)\n",
    "plt.title(\"Doctor Fees rate in different city\")\n",
    "plt.xticks(rotation=45)\n",
    "plt.show()"
   ]
  },
  {
   "cell_type": "markdown",
   "metadata": {},
   "source": [
    "<b>Observations</b><br>\n",
    "*As Delhi, Banglore, Hyderabad, Mumbai and Chennai are in list of Tier 1 city so, as usual the doctor consultation fees in these metripolean cities are very high as compared to Tier 2 and Tier 3 city.<br>\n",
    "*Doctor Fess with having profile as ENT Specialist and Dermatologist is very high then Homeopath and Genral medicine are at same level."
   ]
  },
  {
   "cell_type": "code",
   "execution_count": 37,
   "metadata": {},
   "outputs": [],
   "source": [
    "dftrain = pd.get_dummies(dftrain,columns=['city','Profile'], prefix=['city','Profile'])\n"
   ]
  },
  {
   "cell_type": "code",
   "execution_count": 38,
   "metadata": {},
   "outputs": [
    {
     "data": {
      "text/html": [
       "<div>\n",
       "<style scoped>\n",
       "    .dataframe tbody tr th:only-of-type {\n",
       "        vertical-align: middle;\n",
       "    }\n",
       "\n",
       "    .dataframe tbody tr th {\n",
       "        vertical-align: top;\n",
       "    }\n",
       "\n",
       "    .dataframe thead th {\n",
       "        text-align: right;\n",
       "    }\n",
       "</style>\n",
       "<table border=\"1\" class=\"dataframe\">\n",
       "  <thead>\n",
       "    <tr style=\"text-align: right;\">\n",
       "      <th></th>\n",
       "      <th>Experience</th>\n",
       "      <th>Rating</th>\n",
       "      <th>Miscellaneous_Info</th>\n",
       "      <th>Fees</th>\n",
       "      <th>locality</th>\n",
       "      <th>MBBS</th>\n",
       "      <th>BDS</th>\n",
       "      <th>BAMS</th>\n",
       "      <th>BHMS</th>\n",
       "      <th>MD - Dermatology</th>\n",
       "      <th>...</th>\n",
       "      <th>city_Hyderabad</th>\n",
       "      <th>city_Mumbai</th>\n",
       "      <th>city_Thiruvananthapuram</th>\n",
       "      <th>city_Unknown</th>\n",
       "      <th>Profile_Ayurveda</th>\n",
       "      <th>Profile_Dentist</th>\n",
       "      <th>Profile_Dermatologists</th>\n",
       "      <th>Profile_ENT Specialist</th>\n",
       "      <th>Profile_General Medicine</th>\n",
       "      <th>Profile_Homeopath</th>\n",
       "    </tr>\n",
       "  </thead>\n",
       "  <tbody>\n",
       "    <tr>\n",
       "      <th>0</th>\n",
       "      <td>24</td>\n",
       "      <td>10</td>\n",
       "      <td>100% 16 Feedback Kakkanad, Ernakulam</td>\n",
       "      <td>100</td>\n",
       "      <td>Kakkanad</td>\n",
       "      <td>0</td>\n",
       "      <td>0</td>\n",
       "      <td>0</td>\n",
       "      <td>1</td>\n",
       "      <td>0</td>\n",
       "      <td>...</td>\n",
       "      <td>0</td>\n",
       "      <td>0</td>\n",
       "      <td>0</td>\n",
       "      <td>0</td>\n",
       "      <td>0</td>\n",
       "      <td>0</td>\n",
       "      <td>0</td>\n",
       "      <td>0</td>\n",
       "      <td>0</td>\n",
       "      <td>1</td>\n",
       "    </tr>\n",
       "    <tr>\n",
       "      <th>1</th>\n",
       "      <td>12</td>\n",
       "      <td>10</td>\n",
       "      <td>98% 76 Feedback Whitefield, Bangalore</td>\n",
       "      <td>350</td>\n",
       "      <td>Whitefield</td>\n",
       "      <td>0</td>\n",
       "      <td>0</td>\n",
       "      <td>1</td>\n",
       "      <td>0</td>\n",
       "      <td>0</td>\n",
       "      <td>...</td>\n",
       "      <td>0</td>\n",
       "      <td>0</td>\n",
       "      <td>0</td>\n",
       "      <td>0</td>\n",
       "      <td>1</td>\n",
       "      <td>0</td>\n",
       "      <td>0</td>\n",
       "      <td>0</td>\n",
       "      <td>0</td>\n",
       "      <td>0</td>\n",
       "    </tr>\n",
       "    <tr>\n",
       "      <th>2</th>\n",
       "      <td>9</td>\n",
       "      <td>0</td>\n",
       "      <td>NaN</td>\n",
       "      <td>300</td>\n",
       "      <td>Mathikere - BEL</td>\n",
       "      <td>1</td>\n",
       "      <td>0</td>\n",
       "      <td>0</td>\n",
       "      <td>0</td>\n",
       "      <td>0</td>\n",
       "      <td>...</td>\n",
       "      <td>0</td>\n",
       "      <td>0</td>\n",
       "      <td>0</td>\n",
       "      <td>0</td>\n",
       "      <td>0</td>\n",
       "      <td>0</td>\n",
       "      <td>0</td>\n",
       "      <td>1</td>\n",
       "      <td>0</td>\n",
       "      <td>0</td>\n",
       "    </tr>\n",
       "    <tr>\n",
       "      <th>3</th>\n",
       "      <td>12</td>\n",
       "      <td>0</td>\n",
       "      <td>Bannerghatta Road, Bangalore ₹250 Available on...</td>\n",
       "      <td>250</td>\n",
       "      <td>Bannerghatta Road</td>\n",
       "      <td>0</td>\n",
       "      <td>0</td>\n",
       "      <td>1</td>\n",
       "      <td>0</td>\n",
       "      <td>0</td>\n",
       "      <td>...</td>\n",
       "      <td>0</td>\n",
       "      <td>0</td>\n",
       "      <td>0</td>\n",
       "      <td>0</td>\n",
       "      <td>1</td>\n",
       "      <td>0</td>\n",
       "      <td>0</td>\n",
       "      <td>0</td>\n",
       "      <td>0</td>\n",
       "      <td>0</td>\n",
       "    </tr>\n",
       "    <tr>\n",
       "      <th>4</th>\n",
       "      <td>20</td>\n",
       "      <td>10</td>\n",
       "      <td>100% 4 Feedback Keelkattalai, Chennai</td>\n",
       "      <td>250</td>\n",
       "      <td>Keelkattalai</td>\n",
       "      <td>0</td>\n",
       "      <td>0</td>\n",
       "      <td>1</td>\n",
       "      <td>0</td>\n",
       "      <td>0</td>\n",
       "      <td>...</td>\n",
       "      <td>0</td>\n",
       "      <td>0</td>\n",
       "      <td>0</td>\n",
       "      <td>0</td>\n",
       "      <td>1</td>\n",
       "      <td>0</td>\n",
       "      <td>0</td>\n",
       "      <td>0</td>\n",
       "      <td>0</td>\n",
       "      <td>0</td>\n",
       "    </tr>\n",
       "  </tbody>\n",
       "</table>\n",
       "<p>5 rows × 30 columns</p>\n",
       "</div>"
      ],
      "text/plain": [
       "   Experience Rating                                 Miscellaneous_Info  Fees  \\\n",
       "0          24     10               100% 16 Feedback Kakkanad, Ernakulam   100   \n",
       "1          12     10              98% 76 Feedback Whitefield, Bangalore   350   \n",
       "2           9      0                                                NaN   300   \n",
       "3          12      0  Bannerghatta Road, Bangalore ₹250 Available on...   250   \n",
       "4          20     10              100% 4 Feedback Keelkattalai, Chennai   250   \n",
       "\n",
       "            locality  MBBS  BDS  BAMS  BHMS  MD - Dermatology  ...  \\\n",
       "0           Kakkanad     0    0     0     1                 0  ...   \n",
       "1         Whitefield     0    0     1     0                 0  ...   \n",
       "2    Mathikere - BEL     1    0     0     0                 0  ...   \n",
       "3  Bannerghatta Road     0    0     1     0                 0  ...   \n",
       "4       Keelkattalai     0    0     1     0                 0  ...   \n",
       "\n",
       "   city_Hyderabad  city_Mumbai  city_Thiruvananthapuram  city_Unknown  \\\n",
       "0               0            0                        0             0   \n",
       "1               0            0                        0             0   \n",
       "2               0            0                        0             0   \n",
       "3               0            0                        0             0   \n",
       "4               0            0                        0             0   \n",
       "\n",
       "   Profile_Ayurveda  Profile_Dentist  Profile_Dermatologists  \\\n",
       "0                 0                0                       0   \n",
       "1                 1                0                       0   \n",
       "2                 0                0                       0   \n",
       "3                 1                0                       0   \n",
       "4                 1                0                       0   \n",
       "\n",
       "   Profile_ENT Specialist  Profile_General Medicine  Profile_Homeopath  \n",
       "0                       0                         0                  1  \n",
       "1                       0                         0                  0  \n",
       "2                       1                         0                  0  \n",
       "3                       0                         0                  0  \n",
       "4                       0                         0                  0  \n",
       "\n",
       "[5 rows x 30 columns]"
      ]
     },
     "execution_count": 38,
     "metadata": {},
     "output_type": "execute_result"
    }
   ],
   "source": [
    "dftrain.head()"
   ]
  },
  {
   "cell_type": "markdown",
   "metadata": {},
   "source": [
    "<b>Miscellaneous_Info & locality</b>"
   ]
  },
  {
   "cell_type": "markdown",
   "metadata": {},
   "source": [
    "*Miscellaneous_Info is to much messy column and it consist the data which we already have like doctor address(city & locality) and Rating<br>\n",
    "*locality and city are approximate have same relationship so better to move with only city<br>\n",
    "*so drop the Miscellaneous_Info and locality"
   ]
  },
  {
   "cell_type": "code",
   "execution_count": 39,
   "metadata": {},
   "outputs": [],
   "source": [
    "dftrain.drop(['Miscellaneous_Info','locality'],axis=1,inplace=True)"
   ]
  },
  {
   "cell_type": "code",
   "execution_count": 40,
   "metadata": {},
   "outputs": [
    {
     "data": {
      "image/png": "[encoded data removed]",
      "text/plain": [
       "<Figure size 720x576 with 1 Axes>"
      ]
     },
     "metadata": {
      "needs_background": "light"
     },
     "output_type": "display_data"
    }
   ],
   "source": [
    "plt.figure(figsize=(10,8))\n",
    "ax = sns.lineplot(x='Experience',y='Fees',data=dftrain)\n",
    "ax.set_title(\"Experience wrt doctor Fees\")\n",
    "plt.show()"
   ]
  },
  {
   "cell_type": "code",
   "execution_count": 41,
   "metadata": {},
   "outputs": [
    {
     "data": {
      "image/png": "[encoded data removed]",
      "text/plain": [
       "<Figure size 576x576 with 1 Axes>"
      ]
     },
     "metadata": {
      "needs_background": "light"
     },
     "output_type": "display_data"
    }
   ],
   "source": [
    "plt.figure(figsize=(8,8))\n",
    "sns.barplot(x='Rating',y='Fees',data=dftrain,palette='magma')\n",
    "plt.title(\"Rating Vs Doctor_Fees\")\n",
    "plt.show()"
   ]
  },
  {
   "cell_type": "code",
   "execution_count": 42,
   "metadata": {},
   "outputs": [
    {
     "data": {
      "image/png": "[encoded data removed]",
      "text/plain": [
       "<Figure size 576x576 with 1 Axes>"
      ]
     },
     "metadata": {
      "needs_background": "light"
     },
     "output_type": "display_data"
    }
   ],
   "source": [
    "plt.figure(figsize=(8,8))\n",
    "sns.barplot(x='Rating',y='Experience',data=dftrain,palette='magma')\n",
    "plt.show()"
   ]
  },
  {
   "cell_type": "markdown",
   "metadata": {},
   "source": [
    "<b>OBSERVATIONS</b><br>\n",
    "*the Rating is interesting column, we have grouped the rating in 10 bins, eg: bin5 will be rating of 40-49%.<br><br>\n",
    "*As, we can see that High rating does not relate to high fees charged(infact low fees can be reason of high rating) and where fees are charged so high, there rating is between 30-60%.<br><br>\n",
    "*The median of experience in bin 4 & 5 is 27 and 31 years respectively. whereas in highest rating of 10th bin the median experience is 14 years."
   ]
  },
  {
   "cell_type": "code",
   "execution_count": 43,
   "metadata": {},
   "outputs": [
    {
     "data": {
      "text/html": [
       "<div>\n",
       "<style scoped>\n",
       "    .dataframe tbody tr th:only-of-type {\n",
       "        vertical-align: middle;\n",
       "    }\n",
       "\n",
       "    .dataframe tbody tr th {\n",
       "        vertical-align: top;\n",
       "    }\n",
       "\n",
       "    .dataframe thead th {\n",
       "        text-align: right;\n",
       "    }\n",
       "</style>\n",
       "<table border=\"1\" class=\"dataframe\">\n",
       "  <thead>\n",
       "    <tr style=\"text-align: right;\">\n",
       "      <th></th>\n",
       "      <th>Experience</th>\n",
       "      <th>Rating</th>\n",
       "      <th>Fees</th>\n",
       "      <th>MBBS</th>\n",
       "      <th>BDS</th>\n",
       "      <th>BAMS</th>\n",
       "      <th>BHMS</th>\n",
       "      <th>MD - Dermatology</th>\n",
       "      <th>MS - ENT</th>\n",
       "      <th>Venereology &amp; Leprosy</th>\n",
       "      <th>...</th>\n",
       "      <th>city_Hyderabad</th>\n",
       "      <th>city_Mumbai</th>\n",
       "      <th>city_Thiruvananthapuram</th>\n",
       "      <th>city_Unknown</th>\n",
       "      <th>Profile_Ayurveda</th>\n",
       "      <th>Profile_Dentist</th>\n",
       "      <th>Profile_Dermatologists</th>\n",
       "      <th>Profile_ENT Specialist</th>\n",
       "      <th>Profile_General Medicine</th>\n",
       "      <th>Profile_Homeopath</th>\n",
       "    </tr>\n",
       "  </thead>\n",
       "  <tbody>\n",
       "    <tr>\n",
       "      <th>0</th>\n",
       "      <td>24</td>\n",
       "      <td>10</td>\n",
       "      <td>100</td>\n",
       "      <td>0</td>\n",
       "      <td>0</td>\n",
       "      <td>0</td>\n",
       "      <td>1</td>\n",
       "      <td>0</td>\n",
       "      <td>0</td>\n",
       "      <td>0</td>\n",
       "      <td>...</td>\n",
       "      <td>0</td>\n",
       "      <td>0</td>\n",
       "      <td>0</td>\n",
       "      <td>0</td>\n",
       "      <td>0</td>\n",
       "      <td>0</td>\n",
       "      <td>0</td>\n",
       "      <td>0</td>\n",
       "      <td>0</td>\n",
       "      <td>1</td>\n",
       "    </tr>\n",
       "    <tr>\n",
       "      <th>1</th>\n",
       "      <td>12</td>\n",
       "      <td>10</td>\n",
       "      <td>350</td>\n",
       "      <td>0</td>\n",
       "      <td>0</td>\n",
       "      <td>1</td>\n",
       "      <td>0</td>\n",
       "      <td>0</td>\n",
       "      <td>0</td>\n",
       "      <td>0</td>\n",
       "      <td>...</td>\n",
       "      <td>0</td>\n",
       "      <td>0</td>\n",
       "      <td>0</td>\n",
       "      <td>0</td>\n",
       "      <td>1</td>\n",
       "      <td>0</td>\n",
       "      <td>0</td>\n",
       "      <td>0</td>\n",
       "      <td>0</td>\n",
       "      <td>0</td>\n",
       "    </tr>\n",
       "    <tr>\n",
       "      <th>2</th>\n",
       "      <td>9</td>\n",
       "      <td>0</td>\n",
       "      <td>300</td>\n",
       "      <td>1</td>\n",
       "      <td>0</td>\n",
       "      <td>0</td>\n",
       "      <td>0</td>\n",
       "      <td>0</td>\n",
       "      <td>0</td>\n",
       "      <td>0</td>\n",
       "      <td>...</td>\n",
       "      <td>0</td>\n",
       "      <td>0</td>\n",
       "      <td>0</td>\n",
       "      <td>0</td>\n",
       "      <td>0</td>\n",
       "      <td>0</td>\n",
       "      <td>0</td>\n",
       "      <td>1</td>\n",
       "      <td>0</td>\n",
       "      <td>0</td>\n",
       "    </tr>\n",
       "    <tr>\n",
       "      <th>3</th>\n",
       "      <td>12</td>\n",
       "      <td>0</td>\n",
       "      <td>250</td>\n",
       "      <td>0</td>\n",
       "      <td>0</td>\n",
       "      <td>1</td>\n",
       "      <td>0</td>\n",
       "      <td>0</td>\n",
       "      <td>0</td>\n",
       "      <td>0</td>\n",
       "      <td>...</td>\n",
       "      <td>0</td>\n",
       "      <td>0</td>\n",
       "      <td>0</td>\n",
       "      <td>0</td>\n",
       "      <td>1</td>\n",
       "      <td>0</td>\n",
       "      <td>0</td>\n",
       "      <td>0</td>\n",
       "      <td>0</td>\n",
       "      <td>0</td>\n",
       "    </tr>\n",
       "    <tr>\n",
       "      <th>4</th>\n",
       "      <td>20</td>\n",
       "      <td>10</td>\n",
       "      <td>250</td>\n",
       "      <td>0</td>\n",
       "      <td>0</td>\n",
       "      <td>1</td>\n",
       "      <td>0</td>\n",
       "      <td>0</td>\n",
       "      <td>0</td>\n",
       "      <td>0</td>\n",
       "      <td>...</td>\n",
       "      <td>0</td>\n",
       "      <td>0</td>\n",
       "      <td>0</td>\n",
       "      <td>0</td>\n",
       "      <td>1</td>\n",
       "      <td>0</td>\n",
       "      <td>0</td>\n",
       "      <td>0</td>\n",
       "      <td>0</td>\n",
       "      <td>0</td>\n",
       "    </tr>\n",
       "  </tbody>\n",
       "</table>\n",
       "<p>5 rows × 28 columns</p>\n",
       "</div>"
      ],
      "text/plain": [
       "   Experience Rating  Fees  MBBS  BDS  BAMS  BHMS  MD - Dermatology  MS - ENT  \\\n",
       "0          24     10   100     0    0     0     1                 0         0   \n",
       "1          12     10   350     0    0     1     0                 0         0   \n",
       "2           9      0   300     1    0     0     0                 0         0   \n",
       "3          12      0   250     0    0     1     0                 0         0   \n",
       "4          20     10   250     0    0     1     0                 0         0   \n",
       "\n",
       "   Venereology & Leprosy  ...  city_Hyderabad  city_Mumbai  \\\n",
       "0                      0  ...               0            0   \n",
       "1                      0  ...               0            0   \n",
       "2                      0  ...               0            0   \n",
       "3                      0  ...               0            0   \n",
       "4                      0  ...               0            0   \n",
       "\n",
       "   city_Thiruvananthapuram  city_Unknown  Profile_Ayurveda  Profile_Dentist  \\\n",
       "0                        0             0                 0                0   \n",
       "1                        0             0                 1                0   \n",
       "2                        0             0                 0                0   \n",
       "3                        0             0                 1                0   \n",
       "4                        0             0                 1                0   \n",
       "\n",
       "   Profile_Dermatologists  Profile_ENT Specialist  Profile_General Medicine  \\\n",
       "0                       0                       0                         0   \n",
       "1                       0                       0                         0   \n",
       "2                       0                       1                         0   \n",
       "3                       0                       0                         0   \n",
       "4                       0                       0                         0   \n",
       "\n",
       "   Profile_Homeopath  \n",
       "0                  1  \n",
       "1                  0  \n",
       "2                  0  \n",
       "3                  0  \n",
       "4                  0  \n",
       "\n",
       "[5 rows x 28 columns]"
      ]
     },
     "execution_count": 43,
     "metadata": {},
     "output_type": "execute_result"
    }
   ],
   "source": [
    "dftrain.head()"
   ]
  },
  {
   "cell_type": "markdown",
   "metadata": {},
   "source": [
    "# TEST DATASET"
   ]
  },
  {
   "cell_type": "markdown",
   "metadata": {},
   "source": [
    "EXPERIENCE COLUMN"
   ]
  },
  {
   "cell_type": "code",
   "execution_count": 45,
   "metadata": {},
   "outputs": [],
   "source": [
    "dftest['Experience'] = dftest['Experience'].str.split().str[0]\n",
    "dftest['Experience'] = dftest['Experience'].astype(int)\n"
   ]
  },
  {
   "cell_type": "markdown",
   "metadata": {},
   "source": [
    "Place column (Extract city and locality in diff column)"
   ]
  },
  {
   "cell_type": "code",
   "execution_count": 46,
   "metadata": {},
   "outputs": [],
   "source": [
    "dftest['Place'].fillna('Unknown,Unknown',inplace=True)\n",
    "dftest['locality'] = dftest['Place'].str.split(\",\").str[0]\n",
    "dftest['city'] = dftest['Place'].str.split(\",\").str[1]"
   ]
  },
  {
   "cell_type": "code",
   "execution_count": 47,
   "metadata": {},
   "outputs": [],
   "source": [
    "dftest.drop('Place',axis=1,inplace=True)"
   ]
  },
  {
   "cell_type": "markdown",
   "metadata": {},
   "source": [
    "Rating column"
   ]
  },
  {
   "cell_type": "code",
   "execution_count": 48,
   "metadata": {},
   "outputs": [],
   "source": [
    "dftest['Rating'].fillna('-99%',inplace=True)\n",
    "dftest['Rating'] = dftest['Rating'].str.slice(stop=-1).astype(int)"
   ]
  },
  {
   "cell_type": "markdown",
   "metadata": {},
   "source": [
    "group rating in 10 groups, missing_value to group 0"
   ]
  },
  {
   "cell_type": "code",
   "execution_count": 49,
   "metadata": {},
   "outputs": [],
   "source": [
    "bins = [-99,0,10,20,30,40,50,60,70,80,90,100]\n",
    "labels = [int(i) for i in range(11)]\n",
    "dftest['Rating'] = pd.cut(dftest['Rating'], bins=bins, labels=labels, include_lowest=True)"
   ]
  },
  {
   "cell_type": "markdown",
   "metadata": {},
   "source": [
    "HERE the top 10 Qualification of train and test col should be same so I am imputing the train col to test col"
   ]
  },
  {
   "cell_type": "code",
   "execution_count": 51,
   "metadata": {},
   "outputs": [],
   "source": [
    "dfdata=pd.read_excel('Final_Train.xlsx')\n",
    "dfdata['Qualification'] = dfdata['Qualification'].str.split(\",\")\n",
    "Qualification = {}\n",
    "for x in dfdata['Qualification']:\n",
    "    for each in x:\n",
    "        each = each.strip()\n",
    "        if each in Qualification:\n",
    "            Qualification[each] += 1\n",
    "        else:\n",
    "            Qualification[each] = 1"
   ]
  },
  {
   "cell_type": "markdown",
   "metadata": {},
   "source": [
    "finding out the top 10 Qualification"
   ]
  },
  {
   "cell_type": "code",
   "execution_count": 52,
   "metadata": {},
   "outputs": [],
   "source": [
    "most_qual = sorted(Qualification.items(), key=lambda x:x[1], reverse=True)[:10]\n",
    "final_qual = []\n",
    "for qual in most_qual:\n",
    "    final_qual.append(qual[0])"
   ]
  },
  {
   "cell_type": "markdown",
   "metadata": {},
   "source": [
    "encode the top 10 qualification in test dataset"
   ]
  },
  {
   "cell_type": "code",
   "execution_count": 53,
   "metadata": {},
   "outputs": [],
   "source": [
    "for title in final_qual:\n",
    "    dftest[title] = 0\n",
    "\n",
    "for x,y in zip(dftest['Qualification'].values, np.array([i for i in range(len(dftest))])):\n",
    "    for c in x:\n",
    "        c = c.strip()\n",
    "        if c in final_qual:\n",
    "            dftest[c][y] = 1"
   ]
  },
  {
   "cell_type": "markdown",
   "metadata": {},
   "source": [
    "drop Qualification after getting top 10 qual."
   ]
  },
  {
   "cell_type": "code",
   "execution_count": 54,
   "metadata": {},
   "outputs": [],
   "source": [
    "dftest.drop('Qualification',axis=1,inplace=True)"
   ]
  },
  {
   "cell_type": "markdown",
   "metadata": {},
   "source": [
    "city column"
   ]
  },
  {
   "cell_type": "code",
   "execution_count": 55,
   "metadata": {},
   "outputs": [],
   "source": [
    "dftest['city'] = dftest['city'].apply(lambda x: re.sub(' +','',x))"
   ]
  },
  {
   "cell_type": "markdown",
   "metadata": {},
   "source": [
    "encode city and profile"
   ]
  },
  {
   "cell_type": "code",
   "execution_count": 56,
   "metadata": {},
   "outputs": [],
   "source": [
    "dftest = pd.get_dummies(dftest, columns=['city','Profile'], prefix=['city','Profile'])"
   ]
  },
  {
   "cell_type": "markdown",
   "metadata": {},
   "source": [
    "drop Miscellaneous_Info and locality"
   ]
  },
  {
   "cell_type": "code",
   "execution_count": 57,
   "metadata": {},
   "outputs": [],
   "source": [
    "dftest.drop(['Miscellaneous_Info','locality'], axis=1, inplace=True)"
   ]
  },
  {
   "cell_type": "markdown",
   "metadata": {},
   "source": [
    "Feature Scalling"
   ]
  },
  {
   "cell_type": "code",
   "execution_count": 58,
   "metadata": {},
   "outputs": [],
   "source": [
    "x = dftrain.drop('Fees',axis=1)\n",
    "y = dftrain['Fees']"
   ]
  },
  {
   "cell_type": "code",
   "execution_count": 59,
   "metadata": {},
   "outputs": [],
   "source": [
    "from sklearn.preprocessing import StandardScaler\n",
    "stdsc = StandardScaler()\n",
    "X = stdsc.fit_transform(x)"
   ]
  },
  {
   "cell_type": "markdown",
   "metadata": {},
   "source": [
    "train-test split"
   ]
  },
  {
   "cell_type": "code",
   "execution_count": 60,
   "metadata": {},
   "outputs": [],
   "source": [
    "from sklearn.model_selection import train_test_split\n",
    "\n",
    "x_train, x_test, y_train, y_test = train_test_split(X,y,test_size=0.2,random_state=0)"
   ]
  },
  {
   "cell_type": "markdown",
   "metadata": {},
   "source": [
    "# Model Building"
   ]
  },
  {
   "cell_type": "code",
   "execution_count": 62,
   "metadata": {},
   "outputs": [],
   "source": [
    "from sklearn.neighbors import KNeighborsRegressor\n",
    "from sklearn.svm import SVR\n",
    "from sklearn.tree import DecisionTreeRegressor\n",
    "from sklearn.ensemble import RandomForestRegressor\n",
    "from sklearn.metrics import make_scorer"
   ]
  },
  {
   "cell_type": "code",
   "execution_count": 63,
   "metadata": {},
   "outputs": [],
   "source": [
    "def score(y_pred,y):\n",
    "    y_pred = np.log(y_pred)\n",
    "    y = np.log(y)\n",
    "    return 1 - ((np.sum((y_pred-y)**2))/len(y))**1/2"
   ]
  },
  {
   "cell_type": "code",
   "execution_count": 64,
   "metadata": {},
   "outputs": [],
   "source": [
    "scorer = make_scorer(score,greater_is_better=True, needs_proba=False)"
   ]
  },
  {
   "cell_type": "code",
   "execution_count": 65,
   "metadata": {},
   "outputs": [],
   "source": [
    "knn_reg = KNeighborsRegressor()\n",
    "svm_reg = SVR(gamma='scale')\n",
    "dt_reg = DecisionTreeRegressor()\n",
    "rf_reg = RandomForestRegressor()"
   ]
  },
  {
   "cell_type": "code",
   "execution_count": 66,
   "metadata": {},
   "outputs": [
    {
     "name": "stdout",
     "output_type": "stream",
     "text": [
      "KNeighborsRegressor() 0.7759692513240842\n",
      "SVR() 0.7942077126478044\n",
      "DecisionTreeRegressor() 0.6692855878821724\n",
      "RandomForestRegressor() 0.764112130361114\n"
     ]
    }
   ],
   "source": [
    "for reg in (knn_reg, svm_reg, dt_reg, rf_reg):\n",
    "    reg.fit(x_train, y_train)\n",
    "    \n",
    "    y_pred = reg.predict(x_test)\n",
    "    \n",
    "    print(reg, score(y_pred,y_test))"
   ]
  },
  {
   "cell_type": "markdown",
   "metadata": {},
   "source": [
    "HyperParameter Tuning"
   ]
  },
  {
   "cell_type": "code",
   "execution_count": 67,
   "metadata": {},
   "outputs": [],
   "source": [
    "from sklearn.model_selection import GridSearchCV\n",
    "from sklearn.model_selection import RandomizedSearchCV"
   ]
  },
  {
   "cell_type": "code",
   "execution_count": 71,
   "metadata": {},
   "outputs": [],
   "source": [
    "grid = dict(C=[0.1,1,10], kernel=['linear','poly','rbf'], gamma=['scale','auto'])\n",
    "svm_random = RandomizedSearchCV(svm_reg, param_distributions= grid, scoring=scorer, cv=5, random_state=42, n_iter=100, verbose=1, n_jobs=-1)"
   ]
  },
  {
   "cell_type": "code",
   "execution_count": 72,
   "metadata": {},
   "outputs": [
    {
     "name": "stdout",
     "output_type": "stream",
     "text": [
      "Fitting 5 folds for each of 18 candidates, totalling 90 fits\n"
     ]
    },
    {
     "name": "stderr",
     "output_type": "stream",
     "text": [
      "[Parallel(n_jobs=-1)]: Using backend LokyBackend with 4 concurrent workers.\n",
      "[Parallel(n_jobs=-1)]: Done  42 tasks      | elapsed:   22.6s\n",
      "[Parallel(n_jobs=-1)]: Done  90 out of  90 | elapsed:   57.9s finished\n"
     ]
    },
    {
     "data": {
      "text/plain": [
       "RandomizedSearchCV(cv=5, estimator=SVR(), n_iter=100, n_jobs=-1,\n",
       "                   param_distributions={'C': [0.1, 1, 10],\n",
       "                                        'gamma': ['scale', 'auto'],\n",
       "                                        'kernel': ['linear', 'poly', 'rbf']},\n",
       "                   random_state=42, scoring=make_scorer(score), verbose=1)"
      ]
     },
     "execution_count": 72,
     "metadata": {},
     "output_type": "execute_result"
    }
   ],
   "source": [
    "svm_random.fit(x_train,y_train)"
   ]
  },
  {
   "cell_type": "code",
   "execution_count": 73,
   "metadata": {},
   "outputs": [
    {
     "name": "stdout",
     "output_type": "stream",
     "text": [
      "best_score: 0.8056521524720275\n",
      "best_params:\n",
      " {'kernel': 'rbf', 'gamma': 'auto', 'C': 10}\n"
     ]
    }
   ],
   "source": [
    "print(\"best_score:\",svm_random.best_score_)\n",
    "print(\"best_params:\\n\",svm_random.best_params_)"
   ]
  },
  {
   "cell_type": "markdown",
   "metadata": {},
   "source": [
    "predict the test data from it and see the result"
   ]
  },
  {
   "cell_type": "code",
   "execution_count": 74,
   "metadata": {},
   "outputs": [
    {
     "name": "stdout",
     "output_type": "stream",
     "text": [
      "1-RMSLE: 0.804639194678942\n"
     ]
    }
   ],
   "source": [
    "predictions = svm_random.predict(x_test)\n",
    "\n",
    "print(\"1-RMSLE:\",score(predictions, y_test))"
   ]
  },
  {
   "cell_type": "markdown",
   "metadata": {},
   "source": [
    "Trying Hyperparameter tuning for RandomForest Regressor"
   ]
  },
  {
   "cell_type": "code",
   "execution_count": 75,
   "metadata": {},
   "outputs": [],
   "source": [
    "from sklearn.ensemble import RandomForestRegressor\n",
    "rf_reg = RandomForestRegressor()"
   ]
  },
  {
   "cell_type": "markdown",
   "metadata": {},
   "source": [
    "try hyperparameter tuning"
   ]
  },
  {
   "cell_type": "code",
   "execution_count": 76,
   "metadata": {},
   "outputs": [],
   "source": [
    "#no. of tress random_forest\n",
    "n_estimators = [int(x) for x in np.linspace(start=150,stop=1000,num=6)]"
   ]
  },
  {
   "cell_type": "code",
   "execution_count": 77,
   "metadata": {},
   "outputs": [],
   "source": [
    "#max levels in tree\n",
    "max_depth = [int(x) for x in np.linspace(start=6,stop=30,num=5)]\n",
    "#min no. of splitting required to split a node\n",
    "min_samples_split = [2,7,10]"
   ]
  },
  {
   "cell_type": "code",
   "execution_count": 78,
   "metadata": {},
   "outputs": [],
   "source": [
    "#min no. of sample required at each leaf node\n",
    "min_samples_leaf = [2,5]\n",
    "#max_features\n",
    "max_features=['sqrt','auto']"
   ]
  },
  {
   "cell_type": "code",
   "execution_count": 79,
   "metadata": {},
   "outputs": [
    {
     "name": "stdout",
     "output_type": "stream",
     "text": [
      "{'n_estimators': [150, 320, 490, 660, 830, 1000], 'max_depth': [6, 12, 18, 24, 30], 'min_samples_split': [2, 7, 10], 'min_samples_leaf': [2, 5], 'max_features': ['sqrt', 'auto']}\n"
     ]
    }
   ],
   "source": [
    "# generate a dictionary of all the Hyper Parameters\n",
    "random_grid = {'n_estimators':n_estimators,\n",
    "               'max_depth':max_depth,\n",
    "               'min_samples_split':min_samples_split,\n",
    "               'min_samples_leaf': min_samples_leaf,\n",
    "               'max_features':max_features,\n",
    "              }\n",
    "\n",
    "print(random_grid)"
   ]
  },
  {
   "cell_type": "code",
   "execution_count": 80,
   "metadata": {},
   "outputs": [
    {
     "name": "stdout",
     "output_type": "stream",
     "text": [
      "Fitting 5 folds for each of 100 candidates, totalling 500 fits\n"
     ]
    },
    {
     "name": "stderr",
     "output_type": "stream",
     "text": [
      "[Parallel(n_jobs=-1)]: Using backend LokyBackend with 4 concurrent workers.\n",
      "[Parallel(n_jobs=-1)]: Done  42 tasks      | elapsed:  1.2min\n",
      "[Parallel(n_jobs=-1)]: Done 192 tasks      | elapsed:  5.7min\n",
      "[Parallel(n_jobs=-1)]: Done 442 tasks      | elapsed: 11.4min\n",
      "[Parallel(n_jobs=-1)]: Done 500 out of 500 | elapsed: 12.3min finished\n"
     ]
    },
    {
     "data": {
      "text/plain": [
       "RandomizedSearchCV(cv=5, estimator=RandomForestRegressor(), n_iter=100,\n",
       "                   n_jobs=-1,\n",
       "                   param_distributions={'max_depth': [6, 12, 18, 24, 30],\n",
       "                                        'max_features': ['sqrt', 'auto'],\n",
       "                                        'min_samples_leaf': [2, 5],\n",
       "                                        'min_samples_split': [2, 7, 10],\n",
       "                                        'n_estimators': [150, 320, 490, 660,\n",
       "                                                         830, 1000]},\n",
       "                   random_state=42, scoring=make_scorer(score), verbose=1)"
      ]
     },
     "execution_count": 80,
     "metadata": {},
     "output_type": "execute_result"
    }
   ],
   "source": [
    "rf_random = RandomizedSearchCV(rf_reg, param_distributions=random_grid, scoring=scorer, cv=5, n_iter=100, random_state=42, verbose=1, n_jobs=-1)\n",
    "\n",
    "rf_random.fit(x_train,y_train)"
   ]
  },
  {
   "cell_type": "code",
   "execution_count": 81,
   "metadata": {},
   "outputs": [
    {
     "name": "stdout",
     "output_type": "stream",
     "text": [
      "best_params:\n",
      " {'n_estimators': 150, 'min_samples_split': 7, 'min_samples_leaf': 2, 'max_features': 'sqrt', 'max_depth': 12}\n",
      "\n",
      "best_score: 0.7952155339753804\n"
     ]
    }
   ],
   "source": [
    "print(\"best_params:\\n\",rf_random.best_params_)\n",
    "print(\"\\nbest_score:\",rf_random.best_score_)"
   ]
  },
  {
   "cell_type": "markdown",
   "metadata": {},
   "source": [
    "Our testing set gave us a score of KNeighborsRegressor() 0.7759692513240842 , SVR() 0.7942077126478044, DecisionTreeRegressor() 0.6692855878821724 , RandomForestRegressor() 0.764112130361114. If you take a look at the leaderboard, the winner with the best score is 0.7952155339753804 . Of course, our testing set is not the real testing set used for the leaderboard and is not comparable. But it gave us a metric to use for further optimization."
   ]
  },
  {
   "cell_type": "markdown",
   "metadata": {},
   "source": [
    "The best score obtained here is 0.7952155339753804 . using the test set for the leaderboard and rank 62/169 (top 40th percentile)"
   ]
  },
  {
   "cell_type": "code",
   "execution_count": null,
   "metadata": {},
   "outputs": [],
   "source": []
  }
 ],
 "metadata": {
  "kernelspec": {
   "display_name": "Python 3",
   "language": "python",
   "name": "python3"
  },
  "language_info": {
   "codemirror_mode": {
    "name": "ipython",
    "version": 3
   },
   "file_extension": ".py",
   "mimetype": "text/x-python",
   "name": "python",
   "nbconvert_exporter": "python",
   "pygments_lexer": "ipython3",
   "version": "3.8.5"
  }
 },
 "nbformat": 4,
 "nbformat_minor": 4
}
